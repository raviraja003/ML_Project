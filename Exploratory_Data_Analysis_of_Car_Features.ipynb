{
  "nbformat": 4,
  "nbformat_minor": 0,
  "metadata": {
    "colab": {
      "name": "Exploratory Data Analysis of Car Features.ipynb",
      "provenance": [],
      "collapsed_sections": [
        "7y_O1cPj_ncm",
        "NO-ZSOrU_r_u",
        "N_zznHKvP2-4",
        "U1rxQ4sRSGwL",
        "whWlAZpgUb16"
      ],
      "toc_visible": true,
      "authorship_tag": "ABX9TyNpcDNu9els8vCOtYxDzYQ6",
      "include_colab_link": true
    },
    "kernelspec": {
      "name": "python3",
      "display_name": "Python 3"
    }
  },
  "cells": [
    {
      "cell_type": "markdown",
      "metadata": {
        "id": "view-in-github",
        "colab_type": "text"
      },
      "source": [
        "<a href=\"https://colab.research.google.com/github/raviraja003/ML_Project/blob/master/Exploratory_Data_Analysis_of_Car_Features.ipynb\" target=\"_parent\"><img src=\"https://colab.research.google.com/assets/colab-badge.svg\" alt=\"Open In Colab\"/></a>"
      ]
    },
    {
      "cell_type": "markdown",
      "metadata": {
        "id": "QdzGju3W_67P",
        "colab_type": "text"
      },
      "source": [
        "Project Title:-   EXPLORATORY DATA ANALYSIS OF CAR FEATURES"
      ]
    },
    {
      "cell_type": "markdown",
      "metadata": {
        "id": "ripN_xkO-1VO",
        "colab_type": "text"
      },
      "source": [
        "Exploratory Data Analysis or (EDA) :- It is understanding the data sets by summarizing their main characteristics often plotting them visually.Plotting in EDA consists of Histograms, Box plot, Scatter plot and many more."
      ]
    },
    {
      "cell_type": "markdown",
      "metadata": {
        "id": "NO49Ue1GA7WT",
        "colab_type": "text"
      },
      "source": [
        "OBJECTIVE:- The objective of the project is to do data pre-processing and exploratory data analysis of the dataset."
      ]
    },
    {
      "cell_type": "markdown",
      "metadata": {
        "id": "X-r_rGNzHpj8",
        "colab_type": "text"
      },
      "source": [
        "# Step 1 :- Importing the Dataset and the necessary Libraries, Checking datatype."
      ]
    },
    {
      "cell_type": "code",
      "metadata": {
        "id": "kIKg7nKnHsw1",
        "colab_type": "code",
        "colab": {}
      },
      "source": [
        "# Importing the required libraries for EDA\n",
        "import numpy as np\n",
        "import pandas as pd\n",
        "import tensorflow as tf         #VISUALISATION\n",
        "import matplotlib.pyplot as plt #VISUALISATION\n",
        "import seaborn as sns           #VISUALISATION"
      ],
      "execution_count": 7,
      "outputs": []
    },
    {
      "cell_type": "code",
      "metadata": {
        "id": "oOHfg2lG8CV7",
        "colab_type": "code",
        "colab": {
          "resources": {
            "http://localhost:8080/nbextensions/google.colab/files.js": {
              "data": "Ly8gQ29weXJpZ2h0IDIwMTcgR29vZ2xlIExMQwovLwovLyBMaWNlbnNlZCB1bmRlciB0aGUgQXBhY2hlIExpY2Vuc2UsIFZlcnNpb24gMi4wICh0aGUgIkxpY2Vuc2UiKTsKLy8geW91IG1heSBub3QgdXNlIHRoaXMgZmlsZSBleGNlcHQgaW4gY29tcGxpYW5jZSB3aXRoIHRoZSBMaWNlbnNlLgovLyBZb3UgbWF5IG9idGFpbiBhIGNvcHkgb2YgdGhlIExpY2Vuc2UgYXQKLy8KLy8gICAgICBodHRwOi8vd3d3LmFwYWNoZS5vcmcvbGljZW5zZXMvTElDRU5TRS0yLjAKLy8KLy8gVW5sZXNzIHJlcXVpcmVkIGJ5IGFwcGxpY2FibGUgbGF3IG9yIGFncmVlZCB0byBpbiB3cml0aW5nLCBzb2Z0d2FyZQovLyBkaXN0cmlidXRlZCB1bmRlciB0aGUgTGljZW5zZSBpcyBkaXN0cmlidXRlZCBvbiBhbiAiQVMgSVMiIEJBU0lTLAovLyBXSVRIT1VUIFdBUlJBTlRJRVMgT1IgQ09ORElUSU9OUyBPRiBBTlkgS0lORCwgZWl0aGVyIGV4cHJlc3Mgb3IgaW1wbGllZC4KLy8gU2VlIHRoZSBMaWNlbnNlIGZvciB0aGUgc3BlY2lmaWMgbGFuZ3VhZ2UgZ292ZXJuaW5nIHBlcm1pc3Npb25zIGFuZAovLyBsaW1pdGF0aW9ucyB1bmRlciB0aGUgTGljZW5zZS4KCi8qKgogKiBAZmlsZW92ZXJ2aWV3IEhlbHBlcnMgZm9yIGdvb2dsZS5jb2xhYiBQeXRob24gbW9kdWxlLgogKi8KKGZ1bmN0aW9uKHNjb3BlKSB7CmZ1bmN0aW9uIHNwYW4odGV4dCwgc3R5bGVBdHRyaWJ1dGVzID0ge30pIHsKICBjb25zdCBlbGVtZW50ID0gZG9jdW1lbnQuY3JlYXRlRWxlbWVudCgnc3BhbicpOwogIGVsZW1lbnQudGV4dENvbnRlbnQgPSB0ZXh0OwogIGZvciAoY29uc3Qga2V5IG9mIE9iamVjdC5rZXlzKHN0eWxlQXR0cmlidXRlcykpIHsKICAgIGVsZW1lbnQuc3R5bGVba2V5XSA9IHN0eWxlQXR0cmlidXRlc1trZXldOwogIH0KICByZXR1cm4gZWxlbWVudDsKfQoKLy8gTWF4IG51bWJlciBvZiBieXRlcyB3aGljaCB3aWxsIGJlIHVwbG9hZGVkIGF0IGEgdGltZS4KY29uc3QgTUFYX1BBWUxPQURfU0laRSA9IDEwMCAqIDEwMjQ7CgpmdW5jdGlvbiBfdXBsb2FkRmlsZXMoaW5wdXRJZCwgb3V0cHV0SWQpIHsKICBjb25zdCBzdGVwcyA9IHVwbG9hZEZpbGVzU3RlcChpbnB1dElkLCBvdXRwdXRJZCk7CiAgY29uc3Qgb3V0cHV0RWxlbWVudCA9IGRvY3VtZW50LmdldEVsZW1lbnRCeUlkKG91dHB1dElkKTsKICAvLyBDYWNoZSBzdGVwcyBvbiB0aGUgb3V0cHV0RWxlbWVudCB0byBtYWtlIGl0IGF2YWlsYWJsZSBmb3IgdGhlIG5leHQgY2FsbAogIC8vIHRvIHVwbG9hZEZpbGVzQ29udGludWUgZnJvbSBQeXRob24uCiAgb3V0cHV0RWxlbWVudC5zdGVwcyA9IHN0ZXBzOwoKICByZXR1cm4gX3VwbG9hZEZpbGVzQ29udGludWUob3V0cHV0SWQpOwp9CgovLyBUaGlzIGlzIHJvdWdobHkgYW4gYXN5bmMgZ2VuZXJhdG9yIChub3Qgc3VwcG9ydGVkIGluIHRoZSBicm93c2VyIHlldCksCi8vIHdoZXJlIHRoZXJlIGFyZSBtdWx0aXBsZSBhc3luY2hyb25vdXMgc3RlcHMgYW5kIHRoZSBQeXRob24gc2lkZSBpcyBnb2luZwovLyB0byBwb2xsIGZvciBjb21wbGV0aW9uIG9mIGVhY2ggc3RlcC4KLy8gVGhpcyB1c2VzIGEgUHJvbWlzZSB0byBibG9jayB0aGUgcHl0aG9uIHNpZGUgb24gY29tcGxldGlvbiBvZiBlYWNoIHN0ZXAsCi8vIHRoZW4gcGFzc2VzIHRoZSByZXN1bHQgb2YgdGhlIHByZXZpb3VzIHN0ZXAgYXMgdGhlIGlucHV0IHRvIHRoZSBuZXh0IHN0ZXAuCmZ1bmN0aW9uIF91cGxvYWRGaWxlc0NvbnRpbnVlKG91dHB1dElkKSB7CiAgY29uc3Qgb3V0cHV0RWxlbWVudCA9IGRvY3VtZW50LmdldEVsZW1lbnRCeUlkKG91dHB1dElkKTsKICBjb25zdCBzdGVwcyA9IG91dHB1dEVsZW1lbnQuc3RlcHM7CgogIGNvbnN0IG5leHQgPSBzdGVwcy5uZXh0KG91dHB1dEVsZW1lbnQubGFzdFByb21pc2VWYWx1ZSk7CiAgcmV0dXJuIFByb21pc2UucmVzb2x2ZShuZXh0LnZhbHVlLnByb21pc2UpLnRoZW4oKHZhbHVlKSA9PiB7CiAgICAvLyBDYWNoZSB0aGUgbGFzdCBwcm9taXNlIHZhbHVlIHRvIG1ha2UgaXQgYXZhaWxhYmxlIHRvIHRoZSBuZXh0CiAgICAvLyBzdGVwIG9mIHRoZSBnZW5lcmF0b3IuCiAgICBvdXRwdXRFbGVtZW50Lmxhc3RQcm9taXNlVmFsdWUgPSB2YWx1ZTsKICAgIHJldHVybiBuZXh0LnZhbHVlLnJlc3BvbnNlOwogIH0pOwp9CgovKioKICogR2VuZXJhdG9yIGZ1bmN0aW9uIHdoaWNoIGlzIGNhbGxlZCBiZXR3ZWVuIGVhY2ggYXN5bmMgc3RlcCBvZiB0aGUgdXBsb2FkCiAqIHByb2Nlc3MuCiAqIEBwYXJhbSB7c3RyaW5nfSBpbnB1dElkIEVsZW1lbnQgSUQgb2YgdGhlIGlucHV0IGZpbGUgcGlja2VyIGVsZW1lbnQuCiAqIEBwYXJhbSB7c3RyaW5nfSBvdXRwdXRJZCBFbGVtZW50IElEIG9mIHRoZSBvdXRwdXQgZGlzcGxheS4KICogQHJldHVybiB7IUl0ZXJhYmxlPCFPYmplY3Q+fSBJdGVyYWJsZSBvZiBuZXh0IHN0ZXBzLgogKi8KZnVuY3Rpb24qIHVwbG9hZEZpbGVzU3RlcChpbnB1dElkLCBvdXRwdXRJZCkgewogIGNvbnN0IGlucHV0RWxlbWVudCA9IGRvY3VtZW50LmdldEVsZW1lbnRCeUlkKGlucHV0SWQpOwogIGlucHV0RWxlbWVudC5kaXNhYmxlZCA9IGZhbHNlOwoKICBjb25zdCBvdXRwdXRFbGVtZW50ID0gZG9jdW1lbnQuZ2V0RWxlbWVudEJ5SWQob3V0cHV0SWQpOwogIG91dHB1dEVsZW1lbnQuaW5uZXJIVE1MID0gJyc7CgogIGNvbnN0IHBpY2tlZFByb21pc2UgPSBuZXcgUHJvbWlzZSgocmVzb2x2ZSkgPT4gewogICAgaW5wdXRFbGVtZW50LmFkZEV2ZW50TGlzdGVuZXIoJ2NoYW5nZScsIChlKSA9PiB7CiAgICAgIHJlc29sdmUoZS50YXJnZXQuZmlsZXMpOwogICAgfSk7CiAgfSk7CgogIGNvbnN0IGNhbmNlbCA9IGRvY3VtZW50LmNyZWF0ZUVsZW1lbnQoJ2J1dHRvbicpOwogIGlucHV0RWxlbWVudC5wYXJlbnRFbGVtZW50LmFwcGVuZENoaWxkKGNhbmNlbCk7CiAgY2FuY2VsLnRleHRDb250ZW50ID0gJ0NhbmNlbCB1cGxvYWQnOwogIGNvbnN0IGNhbmNlbFByb21pc2UgPSBuZXcgUHJvbWlzZSgocmVzb2x2ZSkgPT4gewogICAgY2FuY2VsLm9uY2xpY2sgPSAoKSA9PiB7CiAgICAgIHJlc29sdmUobnVsbCk7CiAgICB9OwogIH0pOwoKICAvLyBXYWl0IGZvciB0aGUgdXNlciB0byBwaWNrIHRoZSBmaWxlcy4KICBjb25zdCBmaWxlcyA9IHlpZWxkIHsKICAgIHByb21pc2U6IFByb21pc2UucmFjZShbcGlja2VkUHJvbWlzZSwgY2FuY2VsUHJvbWlzZV0pLAogICAgcmVzcG9uc2U6IHsKICAgICAgYWN0aW9uOiAnc3RhcnRpbmcnLAogICAgfQogIH07CgogIGNhbmNlbC5yZW1vdmUoKTsKCiAgLy8gRGlzYWJsZSB0aGUgaW5wdXQgZWxlbWVudCBzaW5jZSBmdXJ0aGVyIHBpY2tzIGFyZSBub3QgYWxsb3dlZC4KICBpbnB1dEVsZW1lbnQuZGlzYWJsZWQgPSB0cnVlOwoKICBpZiAoIWZpbGVzKSB7CiAgICByZXR1cm4gewogICAgICByZXNwb25zZTogewogICAgICAgIGFjdGlvbjogJ2NvbXBsZXRlJywKICAgICAgfQogICAgfTsKICB9CgogIGZvciAoY29uc3QgZmlsZSBvZiBmaWxlcykgewogICAgY29uc3QgbGkgPSBkb2N1bWVudC5jcmVhdGVFbGVtZW50KCdsaScpOwogICAgbGkuYXBwZW5kKHNwYW4oZmlsZS5uYW1lLCB7Zm9udFdlaWdodDogJ2JvbGQnfSkpOwogICAgbGkuYXBwZW5kKHNwYW4oCiAgICAgICAgYCgke2ZpbGUudHlwZSB8fCAnbi9hJ30pIC0gJHtmaWxlLnNpemV9IGJ5dGVzLCBgICsKICAgICAgICBgbGFzdCBtb2RpZmllZDogJHsKICAgICAgICAgICAgZmlsZS5sYXN0TW9kaWZpZWREYXRlID8gZmlsZS5sYXN0TW9kaWZpZWREYXRlLnRvTG9jYWxlRGF0ZVN0cmluZygpIDoKICAgICAgICAgICAgICAgICAgICAgICAgICAgICAgICAgICAgJ24vYSd9IC0gYCkpOwogICAgY29uc3QgcGVyY2VudCA9IHNwYW4oJzAlIGRvbmUnKTsKICAgIGxpLmFwcGVuZENoaWxkKHBlcmNlbnQpOwoKICAgIG91dHB1dEVsZW1lbnQuYXBwZW5kQ2hpbGQobGkpOwoKICAgIGNvbnN0IGZpbGVEYXRhUHJvbWlzZSA9IG5ldyBQcm9taXNlKChyZXNvbHZlKSA9PiB7CiAgICAgIGNvbnN0IHJlYWRlciA9IG5ldyBGaWxlUmVhZGVyKCk7CiAgICAgIHJlYWRlci5vbmxvYWQgPSAoZSkgPT4gewogICAgICAgIHJlc29sdmUoZS50YXJnZXQucmVzdWx0KTsKICAgICAgfTsKICAgICAgcmVhZGVyLnJlYWRBc0FycmF5QnVmZmVyKGZpbGUpOwogICAgfSk7CiAgICAvLyBXYWl0IGZvciB0aGUgZGF0YSB0byBiZSByZWFkeS4KICAgIGxldCBmaWxlRGF0YSA9IHlpZWxkIHsKICAgICAgcHJvbWlzZTogZmlsZURhdGFQcm9taXNlLAogICAgICByZXNwb25zZTogewogICAgICAgIGFjdGlvbjogJ2NvbnRpbnVlJywKICAgICAgfQogICAgfTsKCiAgICAvLyBVc2UgYSBjaHVua2VkIHNlbmRpbmcgdG8gYXZvaWQgbWVzc2FnZSBzaXplIGxpbWl0cy4gU2VlIGIvNjIxMTU2NjAuCiAgICBsZXQgcG9zaXRpb24gPSAwOwogICAgd2hpbGUgKHBvc2l0aW9uIDwgZmlsZURhdGEuYnl0ZUxlbmd0aCkgewogICAgICBjb25zdCBsZW5ndGggPSBNYXRoLm1pbihmaWxlRGF0YS5ieXRlTGVuZ3RoIC0gcG9zaXRpb24sIE1BWF9QQVlMT0FEX1NJWkUpOwogICAgICBjb25zdCBjaHVuayA9IG5ldyBVaW50OEFycmF5KGZpbGVEYXRhLCBwb3NpdGlvbiwgbGVuZ3RoKTsKICAgICAgcG9zaXRpb24gKz0gbGVuZ3RoOwoKICAgICAgY29uc3QgYmFzZTY0ID0gYnRvYShTdHJpbmcuZnJvbUNoYXJDb2RlLmFwcGx5KG51bGwsIGNodW5rKSk7CiAgICAgIHlpZWxkIHsKICAgICAgICByZXNwb25zZTogewogICAgICAgICAgYWN0aW9uOiAnYXBwZW5kJywKICAgICAgICAgIGZpbGU6IGZpbGUubmFtZSwKICAgICAgICAgIGRhdGE6IGJhc2U2NCwKICAgICAgICB9LAogICAgICB9OwogICAgICBwZXJjZW50LnRleHRDb250ZW50ID0KICAgICAgICAgIGAke01hdGgucm91bmQoKHBvc2l0aW9uIC8gZmlsZURhdGEuYnl0ZUxlbmd0aCkgKiAxMDApfSUgZG9uZWA7CiAgICB9CiAgfQoKICAvLyBBbGwgZG9uZS4KICB5aWVsZCB7CiAgICByZXNwb25zZTogewogICAgICBhY3Rpb246ICdjb21wbGV0ZScsCiAgICB9CiAgfTsKfQoKc2NvcGUuZ29vZ2xlID0gc2NvcGUuZ29vZ2xlIHx8IHt9OwpzY29wZS5nb29nbGUuY29sYWIgPSBzY29wZS5nb29nbGUuY29sYWIgfHwge307CnNjb3BlLmdvb2dsZS5jb2xhYi5fZmlsZXMgPSB7CiAgX3VwbG9hZEZpbGVzLAogIF91cGxvYWRGaWxlc0NvbnRpbnVlLAp9Owp9KShzZWxmKTsK",
              "ok": true,
              "headers": [
                [
                  "content-type",
                  "application/javascript"
                ]
              ],
              "status": 200,
              "status_text": ""
            }
          },
          "base_uri": "https://localhost:8080/",
          "height": 73
        },
        "outputId": "0287bab9-3678-474b-e272-bd048b3df7de"
      },
      "source": [
        "# Load dataset into colab\n",
        "from google.colab import files\n",
        "uploaded = files.upload()"
      ],
      "execution_count": 8,
      "outputs": [
        {
          "output_type": "display_data",
          "data": {
            "text/html": [
              "\n",
              "     <input type=\"file\" id=\"files-3dc7ea13-1cec-46b0-9c48-34c1b6267ab3\" name=\"files[]\" multiple disabled\n",
              "        style=\"border:none\" />\n",
              "     <output id=\"result-3dc7ea13-1cec-46b0-9c48-34c1b6267ab3\">\n",
              "      Upload widget is only available when the cell has been executed in the\n",
              "      current browser session. Please rerun this cell to enable.\n",
              "      </output>\n",
              "      <script src=\"/nbextensions/google.colab/files.js\"></script> "
            ],
            "text/plain": [
              "<IPython.core.display.HTML object>"
            ]
          },
          "metadata": {
            "tags": []
          }
        },
        {
          "output_type": "stream",
          "text": [
            "Saving data.csv to data (1).csv\n"
          ],
          "name": "stdout"
        }
      ]
    },
    {
      "cell_type": "code",
      "metadata": {
        "id": "SZbju06XZGBF",
        "colab_type": "code",
        "colab": {}
      },
      "source": [
        "# Loading the data into the data frame\n",
        "import io\n",
        "df = pd.read_csv(io.BytesIO(uploaded['data.csv']))"
      ],
      "execution_count": 9,
      "outputs": []
    },
    {
      "cell_type": "code",
      "metadata": {
        "id": "m8rRmgrcZhJE",
        "colab_type": "code",
        "colab": {
          "base_uri": "https://localhost:8080/",
          "height": 417
        },
        "outputId": "ce4e1873-edc6-4cd1-bd61-c633a6dd16eb"
      },
      "source": [
        "# To display the top 5 rows of Data\n",
        "df.head(5)  "
      ],
      "execution_count": 10,
      "outputs": [
        {
          "output_type": "execute_result",
          "data": {
            "text/html": [
              "<div>\n",
              "<style scoped>\n",
              "    .dataframe tbody tr th:only-of-type {\n",
              "        vertical-align: middle;\n",
              "    }\n",
              "\n",
              "    .dataframe tbody tr th {\n",
              "        vertical-align: top;\n",
              "    }\n",
              "\n",
              "    .dataframe thead th {\n",
              "        text-align: right;\n",
              "    }\n",
              "</style>\n",
              "<table border=\"1\" class=\"dataframe\">\n",
              "  <thead>\n",
              "    <tr style=\"text-align: right;\">\n",
              "      <th></th>\n",
              "      <th>Make</th>\n",
              "      <th>Model</th>\n",
              "      <th>Year</th>\n",
              "      <th>Engine Fuel Type</th>\n",
              "      <th>Engine HP</th>\n",
              "      <th>Engine Cylinders</th>\n",
              "      <th>Transmission Type</th>\n",
              "      <th>Driven_Wheels</th>\n",
              "      <th>Number of Doors</th>\n",
              "      <th>Market Category</th>\n",
              "      <th>Vehicle Size</th>\n",
              "      <th>Vehicle Style</th>\n",
              "      <th>highway MPG</th>\n",
              "      <th>city mpg</th>\n",
              "      <th>Popularity</th>\n",
              "      <th>MSRP</th>\n",
              "    </tr>\n",
              "  </thead>\n",
              "  <tbody>\n",
              "    <tr>\n",
              "      <th>0</th>\n",
              "      <td>BMW</td>\n",
              "      <td>1 Series M</td>\n",
              "      <td>2011</td>\n",
              "      <td>premium unleaded (required)</td>\n",
              "      <td>335.0</td>\n",
              "      <td>6.0</td>\n",
              "      <td>MANUAL</td>\n",
              "      <td>rear wheel drive</td>\n",
              "      <td>2.0</td>\n",
              "      <td>Factory Tuner,Luxury,High-Performance</td>\n",
              "      <td>Compact</td>\n",
              "      <td>Coupe</td>\n",
              "      <td>26</td>\n",
              "      <td>19</td>\n",
              "      <td>3916</td>\n",
              "      <td>46135</td>\n",
              "    </tr>\n",
              "    <tr>\n",
              "      <th>1</th>\n",
              "      <td>BMW</td>\n",
              "      <td>1 Series</td>\n",
              "      <td>2011</td>\n",
              "      <td>premium unleaded (required)</td>\n",
              "      <td>300.0</td>\n",
              "      <td>6.0</td>\n",
              "      <td>MANUAL</td>\n",
              "      <td>rear wheel drive</td>\n",
              "      <td>2.0</td>\n",
              "      <td>Luxury,Performance</td>\n",
              "      <td>Compact</td>\n",
              "      <td>Convertible</td>\n",
              "      <td>28</td>\n",
              "      <td>19</td>\n",
              "      <td>3916</td>\n",
              "      <td>40650</td>\n",
              "    </tr>\n",
              "    <tr>\n",
              "      <th>2</th>\n",
              "      <td>BMW</td>\n",
              "      <td>1 Series</td>\n",
              "      <td>2011</td>\n",
              "      <td>premium unleaded (required)</td>\n",
              "      <td>300.0</td>\n",
              "      <td>6.0</td>\n",
              "      <td>MANUAL</td>\n",
              "      <td>rear wheel drive</td>\n",
              "      <td>2.0</td>\n",
              "      <td>Luxury,High-Performance</td>\n",
              "      <td>Compact</td>\n",
              "      <td>Coupe</td>\n",
              "      <td>28</td>\n",
              "      <td>20</td>\n",
              "      <td>3916</td>\n",
              "      <td>36350</td>\n",
              "    </tr>\n",
              "    <tr>\n",
              "      <th>3</th>\n",
              "      <td>BMW</td>\n",
              "      <td>1 Series</td>\n",
              "      <td>2011</td>\n",
              "      <td>premium unleaded (required)</td>\n",
              "      <td>230.0</td>\n",
              "      <td>6.0</td>\n",
              "      <td>MANUAL</td>\n",
              "      <td>rear wheel drive</td>\n",
              "      <td>2.0</td>\n",
              "      <td>Luxury,Performance</td>\n",
              "      <td>Compact</td>\n",
              "      <td>Coupe</td>\n",
              "      <td>28</td>\n",
              "      <td>18</td>\n",
              "      <td>3916</td>\n",
              "      <td>29450</td>\n",
              "    </tr>\n",
              "    <tr>\n",
              "      <th>4</th>\n",
              "      <td>BMW</td>\n",
              "      <td>1 Series</td>\n",
              "      <td>2011</td>\n",
              "      <td>premium unleaded (required)</td>\n",
              "      <td>230.0</td>\n",
              "      <td>6.0</td>\n",
              "      <td>MANUAL</td>\n",
              "      <td>rear wheel drive</td>\n",
              "      <td>2.0</td>\n",
              "      <td>Luxury</td>\n",
              "      <td>Compact</td>\n",
              "      <td>Convertible</td>\n",
              "      <td>28</td>\n",
              "      <td>18</td>\n",
              "      <td>3916</td>\n",
              "      <td>34500</td>\n",
              "    </tr>\n",
              "  </tbody>\n",
              "</table>\n",
              "</div>"
            ],
            "text/plain": [
              "  Make       Model  Year  ... city mpg  Popularity   MSRP\n",
              "0  BMW  1 Series M  2011  ...       19        3916  46135\n",
              "1  BMW    1 Series  2011  ...       19        3916  40650\n",
              "2  BMW    1 Series  2011  ...       20        3916  36350\n",
              "3  BMW    1 Series  2011  ...       18        3916  29450\n",
              "4  BMW    1 Series  2011  ...       18        3916  34500\n",
              "\n",
              "[5 rows x 16 columns]"
            ]
          },
          "metadata": {
            "tags": []
          },
          "execution_count": 10
        }
      ]
    },
    {
      "cell_type": "code",
      "metadata": {
        "id": "7HuIa0cMakTu",
        "colab_type": "code",
        "colab": {
          "base_uri": "https://localhost:8080/",
          "height": 400
        },
        "outputId": "780f961e-1710-4413-ce72-70d2c2ea23f7"
      },
      "source": [
        "# To display the botton 5 rows\n",
        "df.tail(5) "
      ],
      "execution_count": 11,
      "outputs": [
        {
          "output_type": "execute_result",
          "data": {
            "text/html": [
              "<div>\n",
              "<style scoped>\n",
              "    .dataframe tbody tr th:only-of-type {\n",
              "        vertical-align: middle;\n",
              "    }\n",
              "\n",
              "    .dataframe tbody tr th {\n",
              "        vertical-align: top;\n",
              "    }\n",
              "\n",
              "    .dataframe thead th {\n",
              "        text-align: right;\n",
              "    }\n",
              "</style>\n",
              "<table border=\"1\" class=\"dataframe\">\n",
              "  <thead>\n",
              "    <tr style=\"text-align: right;\">\n",
              "      <th></th>\n",
              "      <th>Make</th>\n",
              "      <th>Model</th>\n",
              "      <th>Year</th>\n",
              "      <th>Engine Fuel Type</th>\n",
              "      <th>Engine HP</th>\n",
              "      <th>Engine Cylinders</th>\n",
              "      <th>Transmission Type</th>\n",
              "      <th>Driven_Wheels</th>\n",
              "      <th>Number of Doors</th>\n",
              "      <th>Market Category</th>\n",
              "      <th>Vehicle Size</th>\n",
              "      <th>Vehicle Style</th>\n",
              "      <th>highway MPG</th>\n",
              "      <th>city mpg</th>\n",
              "      <th>Popularity</th>\n",
              "      <th>MSRP</th>\n",
              "    </tr>\n",
              "  </thead>\n",
              "  <tbody>\n",
              "    <tr>\n",
              "      <th>11909</th>\n",
              "      <td>Acura</td>\n",
              "      <td>ZDX</td>\n",
              "      <td>2012</td>\n",
              "      <td>premium unleaded (required)</td>\n",
              "      <td>300.0</td>\n",
              "      <td>6.0</td>\n",
              "      <td>AUTOMATIC</td>\n",
              "      <td>all wheel drive</td>\n",
              "      <td>4.0</td>\n",
              "      <td>Crossover,Hatchback,Luxury</td>\n",
              "      <td>Midsize</td>\n",
              "      <td>4dr Hatchback</td>\n",
              "      <td>23</td>\n",
              "      <td>16</td>\n",
              "      <td>204</td>\n",
              "      <td>46120</td>\n",
              "    </tr>\n",
              "    <tr>\n",
              "      <th>11910</th>\n",
              "      <td>Acura</td>\n",
              "      <td>ZDX</td>\n",
              "      <td>2012</td>\n",
              "      <td>premium unleaded (required)</td>\n",
              "      <td>300.0</td>\n",
              "      <td>6.0</td>\n",
              "      <td>AUTOMATIC</td>\n",
              "      <td>all wheel drive</td>\n",
              "      <td>4.0</td>\n",
              "      <td>Crossover,Hatchback,Luxury</td>\n",
              "      <td>Midsize</td>\n",
              "      <td>4dr Hatchback</td>\n",
              "      <td>23</td>\n",
              "      <td>16</td>\n",
              "      <td>204</td>\n",
              "      <td>56670</td>\n",
              "    </tr>\n",
              "    <tr>\n",
              "      <th>11911</th>\n",
              "      <td>Acura</td>\n",
              "      <td>ZDX</td>\n",
              "      <td>2012</td>\n",
              "      <td>premium unleaded (required)</td>\n",
              "      <td>300.0</td>\n",
              "      <td>6.0</td>\n",
              "      <td>AUTOMATIC</td>\n",
              "      <td>all wheel drive</td>\n",
              "      <td>4.0</td>\n",
              "      <td>Crossover,Hatchback,Luxury</td>\n",
              "      <td>Midsize</td>\n",
              "      <td>4dr Hatchback</td>\n",
              "      <td>23</td>\n",
              "      <td>16</td>\n",
              "      <td>204</td>\n",
              "      <td>50620</td>\n",
              "    </tr>\n",
              "    <tr>\n",
              "      <th>11912</th>\n",
              "      <td>Acura</td>\n",
              "      <td>ZDX</td>\n",
              "      <td>2013</td>\n",
              "      <td>premium unleaded (recommended)</td>\n",
              "      <td>300.0</td>\n",
              "      <td>6.0</td>\n",
              "      <td>AUTOMATIC</td>\n",
              "      <td>all wheel drive</td>\n",
              "      <td>4.0</td>\n",
              "      <td>Crossover,Hatchback,Luxury</td>\n",
              "      <td>Midsize</td>\n",
              "      <td>4dr Hatchback</td>\n",
              "      <td>23</td>\n",
              "      <td>16</td>\n",
              "      <td>204</td>\n",
              "      <td>50920</td>\n",
              "    </tr>\n",
              "    <tr>\n",
              "      <th>11913</th>\n",
              "      <td>Lincoln</td>\n",
              "      <td>Zephyr</td>\n",
              "      <td>2006</td>\n",
              "      <td>regular unleaded</td>\n",
              "      <td>221.0</td>\n",
              "      <td>6.0</td>\n",
              "      <td>AUTOMATIC</td>\n",
              "      <td>front wheel drive</td>\n",
              "      <td>4.0</td>\n",
              "      <td>Luxury</td>\n",
              "      <td>Midsize</td>\n",
              "      <td>Sedan</td>\n",
              "      <td>26</td>\n",
              "      <td>17</td>\n",
              "      <td>61</td>\n",
              "      <td>28995</td>\n",
              "    </tr>\n",
              "  </tbody>\n",
              "</table>\n",
              "</div>"
            ],
            "text/plain": [
              "          Make   Model  Year  ... city mpg  Popularity   MSRP\n",
              "11909    Acura     ZDX  2012  ...       16         204  46120\n",
              "11910    Acura     ZDX  2012  ...       16         204  56670\n",
              "11911    Acura     ZDX  2012  ...       16         204  50620\n",
              "11912    Acura     ZDX  2013  ...       16         204  50920\n",
              "11913  Lincoln  Zephyr  2006  ...       17          61  28995\n",
              "\n",
              "[5 rows x 16 columns]"
            ]
          },
          "metadata": {
            "tags": []
          },
          "execution_count": 11
        }
      ]
    },
    {
      "cell_type": "code",
      "metadata": {
        "id": "ce7JgAz2bCkE",
        "colab_type": "code",
        "colab": {
          "base_uri": "https://localhost:8080/",
          "height": 302
        },
        "outputId": "0168e414-0ea5-4465-8efb-1fb14d43af74"
      },
      "source": [
        "# Checking the Datatypes of Data\n",
        "df.dtypes"
      ],
      "execution_count": 12,
      "outputs": [
        {
          "output_type": "execute_result",
          "data": {
            "text/plain": [
              "Make                  object\n",
              "Model                 object\n",
              "Year                   int64\n",
              "Engine Fuel Type      object\n",
              "Engine HP            float64\n",
              "Engine Cylinders     float64\n",
              "Transmission Type     object\n",
              "Driven_Wheels         object\n",
              "Number of Doors      float64\n",
              "Market Category       object\n",
              "Vehicle Size          object\n",
              "Vehicle Style         object\n",
              "highway MPG            int64\n",
              "city mpg               int64\n",
              "Popularity             int64\n",
              "MSRP                   int64\n",
              "dtype: object"
            ]
          },
          "metadata": {
            "tags": []
          },
          "execution_count": 12
        }
      ]
    },
    {
      "cell_type": "code",
      "metadata": {
        "id": "j2dlamtTbz5s",
        "colab_type": "code",
        "colab": {
          "base_uri": "https://localhost:8080/",
          "height": 403
        },
        "outputId": "89b7021e-e179-4103-fd06-24c5fcf321c0"
      },
      "source": [
        "# To Identify the type of Data\n",
        "df.info()"
      ],
      "execution_count": 13,
      "outputs": [
        {
          "output_type": "stream",
          "text": [
            "<class 'pandas.core.frame.DataFrame'>\n",
            "RangeIndex: 11914 entries, 0 to 11913\n",
            "Data columns (total 16 columns):\n",
            " #   Column             Non-Null Count  Dtype  \n",
            "---  ------             --------------  -----  \n",
            " 0   Make               11914 non-null  object \n",
            " 1   Model              11914 non-null  object \n",
            " 2   Year               11914 non-null  int64  \n",
            " 3   Engine Fuel Type   11911 non-null  object \n",
            " 4   Engine HP          11845 non-null  float64\n",
            " 5   Engine Cylinders   11884 non-null  float64\n",
            " 6   Transmission Type  11914 non-null  object \n",
            " 7   Driven_Wheels      11914 non-null  object \n",
            " 8   Number of Doors    11908 non-null  float64\n",
            " 9   Market Category    8172 non-null   object \n",
            " 10  Vehicle Size       11914 non-null  object \n",
            " 11  Vehicle Style      11914 non-null  object \n",
            " 12  highway MPG        11914 non-null  int64  \n",
            " 13  city mpg           11914 non-null  int64  \n",
            " 14  Popularity         11914 non-null  int64  \n",
            " 15  MSRP               11914 non-null  int64  \n",
            "dtypes: float64(3), int64(5), object(8)\n",
            "memory usage: 1.5+ MB\n"
          ],
          "name": "stdout"
        }
      ]
    },
    {
      "cell_type": "code",
      "metadata": {
        "id": "ihxzdTQMcY9M",
        "colab_type": "code",
        "colab": {
          "base_uri": "https://localhost:8080/",
          "height": 34
        },
        "outputId": "72cb6cbd-dfa2-4291-c110-4b2cf56696d3"
      },
      "source": [
        "# Checking the Shape of Data\n",
        "df.shape"
      ],
      "execution_count": 14,
      "outputs": [
        {
          "output_type": "execute_result",
          "data": {
            "text/plain": [
              "(11914, 16)"
            ]
          },
          "metadata": {
            "tags": []
          },
          "execution_count": 14
        }
      ]
    },
    {
      "cell_type": "code",
      "metadata": {
        "id": "UnEiythRciHs",
        "colab_type": "code",
        "colab": {
          "base_uri": "https://localhost:8080/",
          "height": 284
        },
        "outputId": "fe68b43c-16d7-4143-ec75-5e98bfea235b"
      },
      "source": [
        "# Statistical summary of Data\n",
        "df.describe()"
      ],
      "execution_count": 15,
      "outputs": [
        {
          "output_type": "execute_result",
          "data": {
            "text/html": [
              "<div>\n",
              "<style scoped>\n",
              "    .dataframe tbody tr th:only-of-type {\n",
              "        vertical-align: middle;\n",
              "    }\n",
              "\n",
              "    .dataframe tbody tr th {\n",
              "        vertical-align: top;\n",
              "    }\n",
              "\n",
              "    .dataframe thead th {\n",
              "        text-align: right;\n",
              "    }\n",
              "</style>\n",
              "<table border=\"1\" class=\"dataframe\">\n",
              "  <thead>\n",
              "    <tr style=\"text-align: right;\">\n",
              "      <th></th>\n",
              "      <th>Year</th>\n",
              "      <th>Engine HP</th>\n",
              "      <th>Engine Cylinders</th>\n",
              "      <th>Number of Doors</th>\n",
              "      <th>highway MPG</th>\n",
              "      <th>city mpg</th>\n",
              "      <th>Popularity</th>\n",
              "      <th>MSRP</th>\n",
              "    </tr>\n",
              "  </thead>\n",
              "  <tbody>\n",
              "    <tr>\n",
              "      <th>count</th>\n",
              "      <td>11914.000000</td>\n",
              "      <td>11845.00000</td>\n",
              "      <td>11884.000000</td>\n",
              "      <td>11908.000000</td>\n",
              "      <td>11914.000000</td>\n",
              "      <td>11914.000000</td>\n",
              "      <td>11914.000000</td>\n",
              "      <td>1.191400e+04</td>\n",
              "    </tr>\n",
              "    <tr>\n",
              "      <th>mean</th>\n",
              "      <td>2010.384338</td>\n",
              "      <td>249.38607</td>\n",
              "      <td>5.628829</td>\n",
              "      <td>3.436093</td>\n",
              "      <td>26.637485</td>\n",
              "      <td>19.733255</td>\n",
              "      <td>1554.911197</td>\n",
              "      <td>4.059474e+04</td>\n",
              "    </tr>\n",
              "    <tr>\n",
              "      <th>std</th>\n",
              "      <td>7.579740</td>\n",
              "      <td>109.19187</td>\n",
              "      <td>1.780559</td>\n",
              "      <td>0.881315</td>\n",
              "      <td>8.863001</td>\n",
              "      <td>8.987798</td>\n",
              "      <td>1441.855347</td>\n",
              "      <td>6.010910e+04</td>\n",
              "    </tr>\n",
              "    <tr>\n",
              "      <th>min</th>\n",
              "      <td>1990.000000</td>\n",
              "      <td>55.00000</td>\n",
              "      <td>0.000000</td>\n",
              "      <td>2.000000</td>\n",
              "      <td>12.000000</td>\n",
              "      <td>7.000000</td>\n",
              "      <td>2.000000</td>\n",
              "      <td>2.000000e+03</td>\n",
              "    </tr>\n",
              "    <tr>\n",
              "      <th>25%</th>\n",
              "      <td>2007.000000</td>\n",
              "      <td>170.00000</td>\n",
              "      <td>4.000000</td>\n",
              "      <td>2.000000</td>\n",
              "      <td>22.000000</td>\n",
              "      <td>16.000000</td>\n",
              "      <td>549.000000</td>\n",
              "      <td>2.100000e+04</td>\n",
              "    </tr>\n",
              "    <tr>\n",
              "      <th>50%</th>\n",
              "      <td>2015.000000</td>\n",
              "      <td>227.00000</td>\n",
              "      <td>6.000000</td>\n",
              "      <td>4.000000</td>\n",
              "      <td>26.000000</td>\n",
              "      <td>18.000000</td>\n",
              "      <td>1385.000000</td>\n",
              "      <td>2.999500e+04</td>\n",
              "    </tr>\n",
              "    <tr>\n",
              "      <th>75%</th>\n",
              "      <td>2016.000000</td>\n",
              "      <td>300.00000</td>\n",
              "      <td>6.000000</td>\n",
              "      <td>4.000000</td>\n",
              "      <td>30.000000</td>\n",
              "      <td>22.000000</td>\n",
              "      <td>2009.000000</td>\n",
              "      <td>4.223125e+04</td>\n",
              "    </tr>\n",
              "    <tr>\n",
              "      <th>max</th>\n",
              "      <td>2017.000000</td>\n",
              "      <td>1001.00000</td>\n",
              "      <td>16.000000</td>\n",
              "      <td>4.000000</td>\n",
              "      <td>354.000000</td>\n",
              "      <td>137.000000</td>\n",
              "      <td>5657.000000</td>\n",
              "      <td>2.065902e+06</td>\n",
              "    </tr>\n",
              "  </tbody>\n",
              "</table>\n",
              "</div>"
            ],
            "text/plain": [
              "               Year    Engine HP  ...    Popularity          MSRP\n",
              "count  11914.000000  11845.00000  ...  11914.000000  1.191400e+04\n",
              "mean    2010.384338    249.38607  ...   1554.911197  4.059474e+04\n",
              "std        7.579740    109.19187  ...   1441.855347  6.010910e+04\n",
              "min     1990.000000     55.00000  ...      2.000000  2.000000e+03\n",
              "25%     2007.000000    170.00000  ...    549.000000  2.100000e+04\n",
              "50%     2015.000000    227.00000  ...   1385.000000  2.999500e+04\n",
              "75%     2016.000000    300.00000  ...   2009.000000  4.223125e+04\n",
              "max     2017.000000   1001.00000  ...   5657.000000  2.065902e+06\n",
              "\n",
              "[8 rows x 8 columns]"
            ]
          },
          "metadata": {
            "tags": []
          },
          "execution_count": 15
        }
      ]
    },
    {
      "cell_type": "code",
      "metadata": {
        "id": "PjQ382o6c6zV",
        "colab_type": "code",
        "colab": {
          "base_uri": "https://localhost:8080/",
          "height": 302
        },
        "outputId": "4f70f5d0-f449-4b2e-9db6-e1aa867447d4"
      },
      "source": [
        "# Checking for Null values in Data\n",
        "df.isnull().sum()"
      ],
      "execution_count": 16,
      "outputs": [
        {
          "output_type": "execute_result",
          "data": {
            "text/plain": [
              "Make                    0\n",
              "Model                   0\n",
              "Year                    0\n",
              "Engine Fuel Type        3\n",
              "Engine HP              69\n",
              "Engine Cylinders       30\n",
              "Transmission Type       0\n",
              "Driven_Wheels           0\n",
              "Number of Doors         6\n",
              "Market Category      3742\n",
              "Vehicle Size            0\n",
              "Vehicle Style           0\n",
              "highway MPG             0\n",
              "city mpg                0\n",
              "Popularity              0\n",
              "MSRP                    0\n",
              "dtype: int64"
            ]
          },
          "metadata": {
            "tags": []
          },
          "execution_count": 16
        }
      ]
    },
    {
      "cell_type": "markdown",
      "metadata": {
        "id": "6LVksg8m_PHf",
        "colab_type": "text"
      },
      "source": [
        "# Step 2 :- Removing Irrelevant Columns in Dataset."
      ]
    },
    {
      "cell_type": "code",
      "metadata": {
        "id": "n1F3uRTuBiKJ",
        "colab_type": "code",
        "colab": {}
      },
      "source": [
        "# Dropping the columns of Data\n",
        "df=df.drop(columns=[\"Market Category\",\"Engine Fuel Type\", \"Number of Doors\",\"Popularity\",\"Model\",\"Year\"],axis=1)"
      ],
      "execution_count": 17,
      "outputs": []
    },
    {
      "cell_type": "markdown",
      "metadata": {
        "id": "aloQD7ExE3v3",
        "colab_type": "text"
      },
      "source": [
        " - These Features do not Contribute to the Prediction of the Price.\n",
        " - Market Category can be Removed Since it has many Null values.\n",
        " - The brand of car is Important and not the Model."
      ]
    },
    {
      "cell_type": "code",
      "metadata": {
        "id": "1Q5e4KKpF_Yg",
        "colab_type": "code",
        "colab": {
          "base_uri": "https://localhost:8080/",
          "height": 195
        },
        "outputId": "7701d4ca-2738-4a19-c282-13ac6316c3b7"
      },
      "source": [
        "# Displaying the Data after Removing the columns\n",
        "df.head()"
      ],
      "execution_count": 18,
      "outputs": [
        {
          "output_type": "execute_result",
          "data": {
            "text/html": [
              "<div>\n",
              "<style scoped>\n",
              "    .dataframe tbody tr th:only-of-type {\n",
              "        vertical-align: middle;\n",
              "    }\n",
              "\n",
              "    .dataframe tbody tr th {\n",
              "        vertical-align: top;\n",
              "    }\n",
              "\n",
              "    .dataframe thead th {\n",
              "        text-align: right;\n",
              "    }\n",
              "</style>\n",
              "<table border=\"1\" class=\"dataframe\">\n",
              "  <thead>\n",
              "    <tr style=\"text-align: right;\">\n",
              "      <th></th>\n",
              "      <th>Make</th>\n",
              "      <th>Engine HP</th>\n",
              "      <th>Engine Cylinders</th>\n",
              "      <th>Transmission Type</th>\n",
              "      <th>Driven_Wheels</th>\n",
              "      <th>Vehicle Size</th>\n",
              "      <th>Vehicle Style</th>\n",
              "      <th>highway MPG</th>\n",
              "      <th>city mpg</th>\n",
              "      <th>MSRP</th>\n",
              "    </tr>\n",
              "  </thead>\n",
              "  <tbody>\n",
              "    <tr>\n",
              "      <th>0</th>\n",
              "      <td>BMW</td>\n",
              "      <td>335.0</td>\n",
              "      <td>6.0</td>\n",
              "      <td>MANUAL</td>\n",
              "      <td>rear wheel drive</td>\n",
              "      <td>Compact</td>\n",
              "      <td>Coupe</td>\n",
              "      <td>26</td>\n",
              "      <td>19</td>\n",
              "      <td>46135</td>\n",
              "    </tr>\n",
              "    <tr>\n",
              "      <th>1</th>\n",
              "      <td>BMW</td>\n",
              "      <td>300.0</td>\n",
              "      <td>6.0</td>\n",
              "      <td>MANUAL</td>\n",
              "      <td>rear wheel drive</td>\n",
              "      <td>Compact</td>\n",
              "      <td>Convertible</td>\n",
              "      <td>28</td>\n",
              "      <td>19</td>\n",
              "      <td>40650</td>\n",
              "    </tr>\n",
              "    <tr>\n",
              "      <th>2</th>\n",
              "      <td>BMW</td>\n",
              "      <td>300.0</td>\n",
              "      <td>6.0</td>\n",
              "      <td>MANUAL</td>\n",
              "      <td>rear wheel drive</td>\n",
              "      <td>Compact</td>\n",
              "      <td>Coupe</td>\n",
              "      <td>28</td>\n",
              "      <td>20</td>\n",
              "      <td>36350</td>\n",
              "    </tr>\n",
              "    <tr>\n",
              "      <th>3</th>\n",
              "      <td>BMW</td>\n",
              "      <td>230.0</td>\n",
              "      <td>6.0</td>\n",
              "      <td>MANUAL</td>\n",
              "      <td>rear wheel drive</td>\n",
              "      <td>Compact</td>\n",
              "      <td>Coupe</td>\n",
              "      <td>28</td>\n",
              "      <td>18</td>\n",
              "      <td>29450</td>\n",
              "    </tr>\n",
              "    <tr>\n",
              "      <th>4</th>\n",
              "      <td>BMW</td>\n",
              "      <td>230.0</td>\n",
              "      <td>6.0</td>\n",
              "      <td>MANUAL</td>\n",
              "      <td>rear wheel drive</td>\n",
              "      <td>Compact</td>\n",
              "      <td>Convertible</td>\n",
              "      <td>28</td>\n",
              "      <td>18</td>\n",
              "      <td>34500</td>\n",
              "    </tr>\n",
              "  </tbody>\n",
              "</table>\n",
              "</div>"
            ],
            "text/plain": [
              "  Make  Engine HP  Engine Cylinders  ... highway MPG city mpg   MSRP\n",
              "0  BMW      335.0               6.0  ...          26       19  46135\n",
              "1  BMW      300.0               6.0  ...          28       19  40650\n",
              "2  BMW      300.0               6.0  ...          28       20  36350\n",
              "3  BMW      230.0               6.0  ...          28       18  29450\n",
              "4  BMW      230.0               6.0  ...          28       18  34500\n",
              "\n",
              "[5 rows x 10 columns]"
            ]
          },
          "metadata": {
            "tags": []
          },
          "execution_count": 18
        }
      ]
    },
    {
      "cell_type": "markdown",
      "metadata": {
        "id": "7y_O1cPj_ncm",
        "colab_type": "text"
      },
      "source": [
        "# Step 3 :- Renaming the Columns."
      ]
    },
    {
      "cell_type": "code",
      "metadata": {
        "id": "cSd6sflNG6Cg",
        "colab_type": "code",
        "colab": {}
      },
      "source": [
        "# Renaming the Columns\n",
        "df = df.rename(columns={\"Engine HP\": \"HP\", \"Engine Cylinders\": \"Cylinders\", \"Transmission Type\": \"Transmission\", \"Driven_Wheels\": \"Drive Mode\",\"highway MPG\": \"MPG-H\", \"city mpg\": \"MPG-C\", \"MSRP\": \"Price\" })"
      ],
      "execution_count": 19,
      "outputs": []
    },
    {
      "cell_type": "code",
      "metadata": {
        "id": "taTOMmWXIJwA",
        "colab_type": "code",
        "colab": {
          "base_uri": "https://localhost:8080/",
          "height": 195
        },
        "outputId": "bb34cd8e-3f4f-4975-a226-f77ac8fc0156"
      },
      "source": [
        "# Displaying the Data after Renaming the columns\n",
        "df.head()"
      ],
      "execution_count": 20,
      "outputs": [
        {
          "output_type": "execute_result",
          "data": {
            "text/html": [
              "<div>\n",
              "<style scoped>\n",
              "    .dataframe tbody tr th:only-of-type {\n",
              "        vertical-align: middle;\n",
              "    }\n",
              "\n",
              "    .dataframe tbody tr th {\n",
              "        vertical-align: top;\n",
              "    }\n",
              "\n",
              "    .dataframe thead th {\n",
              "        text-align: right;\n",
              "    }\n",
              "</style>\n",
              "<table border=\"1\" class=\"dataframe\">\n",
              "  <thead>\n",
              "    <tr style=\"text-align: right;\">\n",
              "      <th></th>\n",
              "      <th>Make</th>\n",
              "      <th>HP</th>\n",
              "      <th>Cylinders</th>\n",
              "      <th>Transmission</th>\n",
              "      <th>Drive Mode</th>\n",
              "      <th>Vehicle Size</th>\n",
              "      <th>Vehicle Style</th>\n",
              "      <th>MPG-H</th>\n",
              "      <th>MPG-C</th>\n",
              "      <th>Price</th>\n",
              "    </tr>\n",
              "  </thead>\n",
              "  <tbody>\n",
              "    <tr>\n",
              "      <th>0</th>\n",
              "      <td>BMW</td>\n",
              "      <td>335.0</td>\n",
              "      <td>6.0</td>\n",
              "      <td>MANUAL</td>\n",
              "      <td>rear wheel drive</td>\n",
              "      <td>Compact</td>\n",
              "      <td>Coupe</td>\n",
              "      <td>26</td>\n",
              "      <td>19</td>\n",
              "      <td>46135</td>\n",
              "    </tr>\n",
              "    <tr>\n",
              "      <th>1</th>\n",
              "      <td>BMW</td>\n",
              "      <td>300.0</td>\n",
              "      <td>6.0</td>\n",
              "      <td>MANUAL</td>\n",
              "      <td>rear wheel drive</td>\n",
              "      <td>Compact</td>\n",
              "      <td>Convertible</td>\n",
              "      <td>28</td>\n",
              "      <td>19</td>\n",
              "      <td>40650</td>\n",
              "    </tr>\n",
              "    <tr>\n",
              "      <th>2</th>\n",
              "      <td>BMW</td>\n",
              "      <td>300.0</td>\n",
              "      <td>6.0</td>\n",
              "      <td>MANUAL</td>\n",
              "      <td>rear wheel drive</td>\n",
              "      <td>Compact</td>\n",
              "      <td>Coupe</td>\n",
              "      <td>28</td>\n",
              "      <td>20</td>\n",
              "      <td>36350</td>\n",
              "    </tr>\n",
              "    <tr>\n",
              "      <th>3</th>\n",
              "      <td>BMW</td>\n",
              "      <td>230.0</td>\n",
              "      <td>6.0</td>\n",
              "      <td>MANUAL</td>\n",
              "      <td>rear wheel drive</td>\n",
              "      <td>Compact</td>\n",
              "      <td>Coupe</td>\n",
              "      <td>28</td>\n",
              "      <td>18</td>\n",
              "      <td>29450</td>\n",
              "    </tr>\n",
              "    <tr>\n",
              "      <th>4</th>\n",
              "      <td>BMW</td>\n",
              "      <td>230.0</td>\n",
              "      <td>6.0</td>\n",
              "      <td>MANUAL</td>\n",
              "      <td>rear wheel drive</td>\n",
              "      <td>Compact</td>\n",
              "      <td>Convertible</td>\n",
              "      <td>28</td>\n",
              "      <td>18</td>\n",
              "      <td>34500</td>\n",
              "    </tr>\n",
              "  </tbody>\n",
              "</table>\n",
              "</div>"
            ],
            "text/plain": [
              "  Make     HP  Cylinders Transmission  ... Vehicle Style MPG-H MPG-C  Price\n",
              "0  BMW  335.0        6.0       MANUAL  ...         Coupe    26    19  46135\n",
              "1  BMW  300.0        6.0       MANUAL  ...   Convertible    28    19  40650\n",
              "2  BMW  300.0        6.0       MANUAL  ...         Coupe    28    20  36350\n",
              "3  BMW  230.0        6.0       MANUAL  ...         Coupe    28    18  29450\n",
              "4  BMW  230.0        6.0       MANUAL  ...   Convertible    28    18  34500\n",
              "\n",
              "[5 rows x 10 columns]"
            ]
          },
          "metadata": {
            "tags": []
          },
          "execution_count": 20
        }
      ]
    },
    {
      "cell_type": "markdown",
      "metadata": {
        "id": "NO-ZSOrU_r_u",
        "colab_type": "text"
      },
      "source": [
        "# Step 4 :- Dropping the Duplicate Rows, Null values and Missing Data."
      ]
    },
    {
      "cell_type": "markdown",
      "metadata": {
        "id": "JvmW5BxX_z9m",
        "colab_type": "text"
      },
      "source": [
        "In this case contains more than 10, 000 rows often have some duplicate data, so here we remove all the duplicate value from the data-set."
      ]
    },
    {
      "cell_type": "markdown",
      "metadata": {
        "id": "m9qDQVQYKMpO",
        "colab_type": "text"
      },
      "source": [
        "- DUPLICATE ROWS"
      ]
    },
    {
      "cell_type": "code",
      "metadata": {
        "id": "4fjueBc8J_o_",
        "colab_type": "code",
        "colab": {
          "base_uri": "https://localhost:8080/",
          "height": 34
        },
        "outputId": "09a82c75-a9fd-425a-b64e-45007d0b7e42"
      },
      "source": [
        "# Number of Rows and Columns Before\n",
        "df.shape"
      ],
      "execution_count": 21,
      "outputs": [
        {
          "output_type": "execute_result",
          "data": {
            "text/plain": [
              "(11914, 10)"
            ]
          },
          "metadata": {
            "tags": []
          },
          "execution_count": 21
        }
      ]
    },
    {
      "cell_type": "code",
      "metadata": {
        "id": "iLDFTRJEK4QA",
        "colab_type": "code",
        "colab": {
          "base_uri": "https://localhost:8080/",
          "height": 50
        },
        "outputId": "cf9dddbb-97d2-4312-9d5d-49dbe70771e1"
      },
      "source": [
        "# Duplicate Rows are Present in the Dataset\n",
        "duplicate_rows_df = df[df.duplicated()]\n",
        "print(\"Number of Duplicate Rows: \\n\", duplicate_rows_df.shape)"
      ],
      "execution_count": 22,
      "outputs": [
        {
          "output_type": "stream",
          "text": [
            "Number of Duplicate Rows: \n",
            " (1498, 10)\n"
          ],
          "name": "stdout"
        }
      ]
    },
    {
      "cell_type": "code",
      "metadata": {
        "id": "5H4rl-ZwLhEH",
        "colab_type": "code",
        "colab": {
          "base_uri": "https://localhost:8080/",
          "height": 195
        },
        "outputId": "1313d527-c37b-4bfd-e566-7e0ac0cea4fd"
      },
      "source": [
        "# Dropping Duplicated Rows\n",
        "df = df.drop_duplicates()\n",
        "# Number of Rows and Columns After\n",
        "df.head(5)"
      ],
      "execution_count": 23,
      "outputs": [
        {
          "output_type": "execute_result",
          "data": {
            "text/html": [
              "<div>\n",
              "<style scoped>\n",
              "    .dataframe tbody tr th:only-of-type {\n",
              "        vertical-align: middle;\n",
              "    }\n",
              "\n",
              "    .dataframe tbody tr th {\n",
              "        vertical-align: top;\n",
              "    }\n",
              "\n",
              "    .dataframe thead th {\n",
              "        text-align: right;\n",
              "    }\n",
              "</style>\n",
              "<table border=\"1\" class=\"dataframe\">\n",
              "  <thead>\n",
              "    <tr style=\"text-align: right;\">\n",
              "      <th></th>\n",
              "      <th>Make</th>\n",
              "      <th>HP</th>\n",
              "      <th>Cylinders</th>\n",
              "      <th>Transmission</th>\n",
              "      <th>Drive Mode</th>\n",
              "      <th>Vehicle Size</th>\n",
              "      <th>Vehicle Style</th>\n",
              "      <th>MPG-H</th>\n",
              "      <th>MPG-C</th>\n",
              "      <th>Price</th>\n",
              "    </tr>\n",
              "  </thead>\n",
              "  <tbody>\n",
              "    <tr>\n",
              "      <th>0</th>\n",
              "      <td>BMW</td>\n",
              "      <td>335.0</td>\n",
              "      <td>6.0</td>\n",
              "      <td>MANUAL</td>\n",
              "      <td>rear wheel drive</td>\n",
              "      <td>Compact</td>\n",
              "      <td>Coupe</td>\n",
              "      <td>26</td>\n",
              "      <td>19</td>\n",
              "      <td>46135</td>\n",
              "    </tr>\n",
              "    <tr>\n",
              "      <th>1</th>\n",
              "      <td>BMW</td>\n",
              "      <td>300.0</td>\n",
              "      <td>6.0</td>\n",
              "      <td>MANUAL</td>\n",
              "      <td>rear wheel drive</td>\n",
              "      <td>Compact</td>\n",
              "      <td>Convertible</td>\n",
              "      <td>28</td>\n",
              "      <td>19</td>\n",
              "      <td>40650</td>\n",
              "    </tr>\n",
              "    <tr>\n",
              "      <th>2</th>\n",
              "      <td>BMW</td>\n",
              "      <td>300.0</td>\n",
              "      <td>6.0</td>\n",
              "      <td>MANUAL</td>\n",
              "      <td>rear wheel drive</td>\n",
              "      <td>Compact</td>\n",
              "      <td>Coupe</td>\n",
              "      <td>28</td>\n",
              "      <td>20</td>\n",
              "      <td>36350</td>\n",
              "    </tr>\n",
              "    <tr>\n",
              "      <th>3</th>\n",
              "      <td>BMW</td>\n",
              "      <td>230.0</td>\n",
              "      <td>6.0</td>\n",
              "      <td>MANUAL</td>\n",
              "      <td>rear wheel drive</td>\n",
              "      <td>Compact</td>\n",
              "      <td>Coupe</td>\n",
              "      <td>28</td>\n",
              "      <td>18</td>\n",
              "      <td>29450</td>\n",
              "    </tr>\n",
              "    <tr>\n",
              "      <th>4</th>\n",
              "      <td>BMW</td>\n",
              "      <td>230.0</td>\n",
              "      <td>6.0</td>\n",
              "      <td>MANUAL</td>\n",
              "      <td>rear wheel drive</td>\n",
              "      <td>Compact</td>\n",
              "      <td>Convertible</td>\n",
              "      <td>28</td>\n",
              "      <td>18</td>\n",
              "      <td>34500</td>\n",
              "    </tr>\n",
              "  </tbody>\n",
              "</table>\n",
              "</div>"
            ],
            "text/plain": [
              "  Make     HP  Cylinders Transmission  ... Vehicle Style MPG-H MPG-C  Price\n",
              "0  BMW  335.0        6.0       MANUAL  ...         Coupe    26    19  46135\n",
              "1  BMW  300.0        6.0       MANUAL  ...   Convertible    28    19  40650\n",
              "2  BMW  300.0        6.0       MANUAL  ...         Coupe    28    20  36350\n",
              "3  BMW  230.0        6.0       MANUAL  ...         Coupe    28    18  29450\n",
              "4  BMW  230.0        6.0       MANUAL  ...   Convertible    28    18  34500\n",
              "\n",
              "[5 rows x 10 columns]"
            ]
          },
          "metadata": {
            "tags": []
          },
          "execution_count": 23
        }
      ]
    },
    {
      "cell_type": "code",
      "metadata": {
        "id": "ji_V-p1JMQFW",
        "colab_type": "code",
        "colab": {
          "base_uri": "https://localhost:8080/",
          "height": 34
        },
        "outputId": "c58c9b45-ca2e-4b83-81b4-5a647280b0e3"
      },
      "source": [
        "# Checking the Shape of Data\n",
        "df.shape"
      ],
      "execution_count": 24,
      "outputs": [
        {
          "output_type": "execute_result",
          "data": {
            "text/plain": [
              "(10416, 10)"
            ]
          },
          "metadata": {
            "tags": []
          },
          "execution_count": 24
        }
      ]
    },
    {
      "cell_type": "markdown",
      "metadata": {
        "id": "eq0Iu4WsMhJH",
        "colab_type": "text"
      },
      "source": [
        "- NULL VALUES AND MISSING VALUES"
      ]
    },
    {
      "cell_type": "code",
      "metadata": {
        "id": "WiHuTMk7MkHQ",
        "colab_type": "code",
        "colab": {
          "base_uri": "https://localhost:8080/",
          "height": 202
        },
        "outputId": "bd0af225-9b36-4f93-9342-9b99dbb7b102"
      },
      "source": [
        "# Null values are Present\n",
        "print(df.isnull().sum())"
      ],
      "execution_count": 25,
      "outputs": [
        {
          "output_type": "stream",
          "text": [
            "Make              0\n",
            "HP               61\n",
            "Cylinders        30\n",
            "Transmission      0\n",
            "Drive Mode        0\n",
            "Vehicle Size      0\n",
            "Vehicle Style     0\n",
            "MPG-H             0\n",
            "MPG-C             0\n",
            "Price             0\n",
            "dtype: int64\n"
          ],
          "name": "stdout"
        }
      ]
    },
    {
      "cell_type": "code",
      "metadata": {
        "id": "itODytv6NW6f",
        "colab_type": "code",
        "colab": {
          "base_uri": "https://localhost:8080/",
          "height": 202
        },
        "outputId": "c9531446-4ee9-4a34-a25f-6441127404de"
      },
      "source": [
        "# Dropping the missing values\n",
        "df = df.dropna() \n",
        "# Counting the Number of Rows After Removing the Data\n",
        "df.count()"
      ],
      "execution_count": 26,
      "outputs": [
        {
          "output_type": "execute_result",
          "data": {
            "text/plain": [
              "Make             10326\n",
              "HP               10326\n",
              "Cylinders        10326\n",
              "Transmission     10326\n",
              "Drive Mode       10326\n",
              "Vehicle Size     10326\n",
              "Vehicle Style    10326\n",
              "MPG-H            10326\n",
              "MPG-C            10326\n",
              "Price            10326\n",
              "dtype: int64"
            ]
          },
          "metadata": {
            "tags": []
          },
          "execution_count": 26
        }
      ]
    },
    {
      "cell_type": "code",
      "metadata": {
        "id": "fvYzS9cdOq0x",
        "colab_type": "code",
        "colab": {
          "base_uri": "https://localhost:8080/",
          "height": 202
        },
        "outputId": "d7f2cfc4-8094-4366-8b9b-0b8eec97801a"
      },
      "source": [
        "# Checking Wheather all Null Values Removed or Not\n",
        "print(df.isnull().sum())"
      ],
      "execution_count": 27,
      "outputs": [
        {
          "output_type": "stream",
          "text": [
            "Make             0\n",
            "HP               0\n",
            "Cylinders        0\n",
            "Transmission     0\n",
            "Drive Mode       0\n",
            "Vehicle Size     0\n",
            "Vehicle Style    0\n",
            "MPG-H            0\n",
            "MPG-C            0\n",
            "Price            0\n",
            "dtype: int64\n"
          ],
          "name": "stdout"
        }
      ]
    },
    {
      "cell_type": "code",
      "metadata": {
        "id": "N4znzoQ_PMGW",
        "colab_type": "code",
        "colab": {
          "base_uri": "https://localhost:8080/",
          "height": 34
        },
        "outputId": "009a6117-e94d-466c-ca5c-28f551d2795e"
      },
      "source": [
        "# Checking the Shape of Data\n",
        "df.shape"
      ],
      "execution_count": 28,
      "outputs": [
        {
          "output_type": "execute_result",
          "data": {
            "text/plain": [
              "(10326, 10)"
            ]
          },
          "metadata": {
            "tags": []
          },
          "execution_count": 28
        }
      ]
    },
    {
      "cell_type": "markdown",
      "metadata": {
        "id": "N_zznHKvP2-4",
        "colab_type": "text"
      },
      "source": [
        "# Step 5 :- Detecting Outliers."
      ]
    },
    {
      "cell_type": "markdown",
      "metadata": {
        "id": "tC_tyEIZQAhn",
        "colab_type": "text"
      },
      "source": [
        "An outlier is a point or set of points that are different from other points. they can be very high or very low. It's often a good idea to detect and remove the outliers"
      ]
    },
    {
      "cell_type": "markdown",
      "metadata": {
        "id": "jMoqI7UxQlem",
        "colab_type": "text"
      },
      "source": [
        "- DETECTION OF OUTLIERS"
      ]
    },
    {
      "cell_type": "code",
      "metadata": {
        "id": "9UJa_PASQqnG",
        "colab_type": "code",
        "colab": {
          "base_uri": "https://localhost:8080/",
          "height": 296
        },
        "outputId": "1e59a122-2d89-4635-cc14-0f4126de299f"
      },
      "source": [
        "sns.boxplot(x=df['Price'])"
      ],
      "execution_count": 29,
      "outputs": [
        {
          "output_type": "execute_result",
          "data": {
            "text/plain": [
              "<matplotlib.axes._subplots.AxesSubplot at 0x7fd038656668>"
            ]
          },
          "metadata": {
            "tags": []
          },
          "execution_count": 29
        },
        {
          "output_type": "display_data",
          "data": {
            "image/png": "[encoded data removed]",
            "text/plain": [
              "<Figure size 432x288 with 1 Axes>"
            ]
          },
          "metadata": {
            "tags": [],
            "needs_background": "light"
          }
        }
      ]
    },
    {
      "cell_type": "code",
      "metadata": {
        "id": "C7dLaJK-Q13Q",
        "colab_type": "code",
        "colab": {
          "base_uri": "https://localhost:8080/",
          "height": 296
        },
        "outputId": "678f84d9-c82f-4b8f-ea4a-2476d570106b"
      },
      "source": [
        "sns.boxplot(x=df['HP'])"
      ],
      "execution_count": 30,
      "outputs": [
        {
          "output_type": "execute_result",
          "data": {
            "text/plain": [
              "<matplotlib.axes._subplots.AxesSubplot at 0x7fd038595400>"
            ]
          },
          "metadata": {
            "tags": []
          },
          "execution_count": 30
        },
        {
          "output_type": "display_data",
          "data": {
            "image/png": "[encoded data removed]",
            "text/plain": [
              "<Figure size 432x288 with 1 Axes>"
            ]
          },
          "metadata": {
            "tags": [],
            "needs_background": "light"
          }
        }
      ]
    },
    {
      "cell_type": "code",
      "metadata": {
        "id": "5sD80O7TQ4EH",
        "colab_type": "code",
        "colab": {
          "base_uri": "https://localhost:8080/",
          "height": 296
        },
        "outputId": "f8949a4d-5c9d-4174-b944-d4a94f2958d6"
      },
      "source": [
        "sns.boxplot(x=df['Cylinders'])"
      ],
      "execution_count": 31,
      "outputs": [
        {
          "output_type": "execute_result",
          "data": {
            "text/plain": [
              "<matplotlib.axes._subplots.AxesSubplot at 0x7fd0380b1710>"
            ]
          },
          "metadata": {
            "tags": []
          },
          "execution_count": 31
        },
        {
          "output_type": "display_data",
          "data": {
            "image/png": "[encoded data removed]",
            "text/plain": [
              "<Figure size 432x288 with 1 Axes>"
            ]
          },
          "metadata": {
            "tags": [],
            "needs_background": "light"
          }
        }
      ]
    },
    {
      "cell_type": "markdown",
      "metadata": {
        "id": "POUWm5QnRPNX",
        "colab_type": "text"
      },
      "source": [
        "- REMOVAL OF OUTLIERS"
      ]
    },
    {
      "cell_type": "code",
      "metadata": {
        "id": "lb68AYOFRRUe",
        "colab_type": "code",
        "colab": {
          "base_uri": "https://localhost:8080/",
          "height": 118
        },
        "outputId": "e47face0-53d1-4ed1-99e8-15483f6a9c6e"
      },
      "source": [
        "# Using Interquartile  Range Method\n",
        "Q1 = df.quantile(0.25)\n",
        "Q3 = df.quantile(0.75)\n",
        "IQR = Q3 - Q1\n",
        "print(IQR)"
      ],
      "execution_count": 32,
      "outputs": [
        {
          "output_type": "stream",
          "text": [
            "HP             129.0\n",
            "Cylinders        2.0\n",
            "MPG-H            8.0\n",
            "MPG-C            6.0\n",
            "Price        20975.0\n",
            "dtype: float64\n"
          ],
          "name": "stdout"
        }
      ]
    },
    {
      "cell_type": "code",
      "metadata": {
        "id": "FwMQojMqRqrp",
        "colab_type": "code",
        "colab": {
          "base_uri": "https://localhost:8080/",
          "height": 34
        },
        "outputId": "66211603-cc06-44a4-e114-41a217172399"
      },
      "source": [
        "# To Remove the Outliers\n",
        "df = df[~((df < (Q1 - 1.5 * IQR)) |(df > (Q3 + 1.5 * IQR))).any(axis=1)]\n",
        "# Checking the Shape of Data\n",
        "df.shape"
      ],
      "execution_count": 33,
      "outputs": [
        {
          "output_type": "execute_result",
          "data": {
            "text/plain": [
              "(9171, 10)"
            ]
          },
          "metadata": {
            "tags": []
          },
          "execution_count": 33
        }
      ]
    },
    {
      "cell_type": "markdown",
      "metadata": {
        "id": "U1rxQ4sRSGwL",
        "colab_type": "text"
      },
      "source": [
        "# Step 6 :- Most Represented Car Brands."
      ]
    },
    {
      "cell_type": "code",
      "metadata": {
        "id": "tnHDAdfySrd-",
        "colab_type": "code",
        "colab": {
          "base_uri": "https://localhost:8080/",
          "height": 336
        },
        "outputId": "6bd01df5-f5f3-44c7-9195-a88983b1c640"
      },
      "source": [
        "# Percentage of car per brand\n",
        "counts = df['Make'].value_counts()*100/sum(df['Make'].value_counts())\n",
        "\n",
        "# Top 10 car brands\n",
        "popular_labels = counts.index[:10]\n",
        "    \n",
        "# Plotting the graph\n",
        "plt.figure(figsize=(10,5))\n",
        "plt.barh(popular_labels, width=counts[:10])\n",
        "plt.title('Top 10 Car brands')\n",
        "plt.show()"
      ],
      "execution_count": 34,
      "outputs": [
        {
          "output_type": "display_data",
          "data": {
            "image/png": "[encoded data removed]",
            "text/plain": [
              "<Figure size 720x360 with 1 Axes>"
            ]
          },
          "metadata": {
            "tags": [],
            "needs_background": "light"
          }
        }
      ]
    },
    {
      "cell_type": "code",
      "metadata": {
        "id": "0XHqp-UPS9WW",
        "colab_type": "code",
        "colab": {
          "base_uri": "https://localhost:8080/",
          "height": 218
        },
        "outputId": "3f7f58c6-ccd6-4e89-9903-bfc3114a60e7"
      },
      "source": [
        "# To find the Average Price of the Cars\n",
        "prices = df[['Make','Price']].loc[(df['Make'] == 'Chevrolet')|\n",
        "               (df['Make'] == 'Ford')|\n",
        "               (df['Make'] == 'Volkswagen')|\n",
        "               (df['Make'] == 'Toyota')|\n",
        "               (df['Make'] == 'Dodge')|\n",
        "               (df['Make'] == 'Nissan')|\n",
        "               (df['Make'] == 'GMC')|\n",
        "               (df['Make'] == 'Honda')|\n",
        "               (df['Make'] == 'Mazda')].groupby('Make').mean()\n",
        "print(\"The Average Price of Top Branded Cars are : \\n\",prices)"
      ],
      "execution_count": 35,
      "outputs": [
        {
          "output_type": "stream",
          "text": [
            "The Average Price of Top Branded Cars are : \n",
            "                    Price\n",
            "Make                    \n",
            "Chevrolet   28238.587885\n",
            "Dodge       22640.588745\n",
            "Ford        27843.995879\n",
            "GMC         32570.935417\n",
            "Honda       27178.853723\n",
            "Mazda       19901.719198\n",
            "Nissan      26909.535637\n",
            "Toyota      27522.103691\n",
            "Volkswagen  28372.645545\n"
          ],
          "name": "stdout"
        }
      ]
    },
    {
      "cell_type": "markdown",
      "metadata": {
        "id": "whWlAZpgUb16",
        "colab_type": "text"
      },
      "source": [
        "# Step 7 :- Correlation Matrix."
      ]
    },
    {
      "cell_type": "code",
      "metadata": {
        "id": "tQznHoFbUj1W",
        "colab_type": "code",
        "colab": {
          "base_uri": "https://localhost:8080/",
          "height": 195
        },
        "outputId": "80ff384f-a4d7-41c9-b367-9da2f9c540ca"
      },
      "source": [
        "# Correlation matrix for Different Columns\n",
        "df.corr()"
      ],
      "execution_count": 36,
      "outputs": [
        {
          "output_type": "execute_result",
          "data": {
            "text/html": [
              "<div>\n",
              "<style scoped>\n",
              "    .dataframe tbody tr th:only-of-type {\n",
              "        vertical-align: middle;\n",
              "    }\n",
              "\n",
              "    .dataframe tbody tr th {\n",
              "        vertical-align: top;\n",
              "    }\n",
              "\n",
              "    .dataframe thead th {\n",
              "        text-align: right;\n",
              "    }\n",
              "</style>\n",
              "<table border=\"1\" class=\"dataframe\">\n",
              "  <thead>\n",
              "    <tr style=\"text-align: right;\">\n",
              "      <th></th>\n",
              "      <th>HP</th>\n",
              "      <th>Cylinders</th>\n",
              "      <th>MPG-H</th>\n",
              "      <th>MPG-C</th>\n",
              "      <th>Price</th>\n",
              "    </tr>\n",
              "  </thead>\n",
              "  <tbody>\n",
              "    <tr>\n",
              "      <th>HP</th>\n",
              "      <td>1.000000</td>\n",
              "      <td>0.697729</td>\n",
              "      <td>-0.423702</td>\n",
              "      <td>-0.519429</td>\n",
              "      <td>0.741033</td>\n",
              "    </tr>\n",
              "    <tr>\n",
              "      <th>Cylinders</th>\n",
              "      <td>0.697729</td>\n",
              "      <td>1.000000</td>\n",
              "      <td>-0.703366</td>\n",
              "      <td>-0.751810</td>\n",
              "      <td>0.321756</td>\n",
              "    </tr>\n",
              "    <tr>\n",
              "      <th>MPG-H</th>\n",
              "      <td>-0.423702</td>\n",
              "      <td>-0.703366</td>\n",
              "      <td>1.000000</td>\n",
              "      <td>0.940995</td>\n",
              "      <td>-0.059940</td>\n",
              "    </tr>\n",
              "    <tr>\n",
              "      <th>MPG-C</th>\n",
              "      <td>-0.519429</td>\n",
              "      <td>-0.751810</td>\n",
              "      <td>0.940995</td>\n",
              "      <td>1.000000</td>\n",
              "      <td>-0.131613</td>\n",
              "    </tr>\n",
              "    <tr>\n",
              "      <th>Price</th>\n",
              "      <td>0.741033</td>\n",
              "      <td>0.321756</td>\n",
              "      <td>-0.059940</td>\n",
              "      <td>-0.131613</td>\n",
              "      <td>1.000000</td>\n",
              "    </tr>\n",
              "  </tbody>\n",
              "</table>\n",
              "</div>"
            ],
            "text/plain": [
              "                 HP  Cylinders     MPG-H     MPG-C     Price\n",
              "HP         1.000000   0.697729 -0.423702 -0.519429  0.741033\n",
              "Cylinders  0.697729   1.000000 -0.703366 -0.751810  0.321756\n",
              "MPG-H     -0.423702  -0.703366  1.000000  0.940995 -0.059940\n",
              "MPG-C     -0.519429  -0.751810  0.940995  1.000000 -0.131613\n",
              "Price      0.741033   0.321756 -0.059940 -0.131613  1.000000"
            ]
          },
          "metadata": {
            "tags": []
          },
          "execution_count": 36
        }
      ]
    },
    {
      "cell_type": "markdown",
      "metadata": {
        "id": "Yb5jZ_uSVcvn",
        "colab_type": "text"
      },
      "source": [
        "- From The Plot\n",
        "    - High Correlation: One Quantity Increase and Other is also Increase.\n",
        "         - Cylinders & HP\n",
        "         - Highway MPG-H & City MPG-C\n",
        "    - Low Correlation: One Quantity Increase and Other is Decrease.\n",
        "        - Correlation & MPG-H\n",
        "        - Correlation & MPG-C     "
      ]
    },
    {
      "cell_type": "code",
      "metadata": {
        "id": "O3NXXkB_XsrQ",
        "colab_type": "code",
        "colab": {
          "base_uri": "https://localhost:8080/",
          "height": 341
        },
        "outputId": "516786b9-af45-42af-ae30-6877aabe560e"
      },
      "source": [
        "# Plotting the Matrix\n",
        "plt.figure(figsize=(10,5))\n",
        "c= df.corr()\n",
        "sns.heatmap(c,cmap=\"BrBG\",annot=True)"
      ],
      "execution_count": 37,
      "outputs": [
        {
          "output_type": "execute_result",
          "data": {
            "text/plain": [
              "<matplotlib.axes._subplots.AxesSubplot at 0x7fd03801e710>"
            ]
          },
          "metadata": {
            "tags": []
          },
          "execution_count": 37
        },
        {
          "output_type": "display_data",
          "data": {
            "image/png": "[encoded data removed]",
            "text/plain": [
              "<Figure size 720x360 with 2 Axes>"
            ]
          },
          "metadata": {
            "tags": [],
            "needs_background": "light"
          }
        }
      ]
    },
    {
      "cell_type": "markdown",
      "metadata": {
        "id": "Y0bZaD54YUXx",
        "colab_type": "text"
      },
      "source": [
        "# Step 8 :- Perform EDA and Plot Graphs"
      ]
    },
    {
      "cell_type": "markdown",
      "metadata": {
        "id": "-atqaK_UYqOI",
        "colab_type": "text"
      },
      "source": [
        "- HISTOGRAMS REFERS TO THE FREQUENCY OF OCCURRENCE OF VARIABLES IN AN INETRVAL."
      ]
    },
    {
      "cell_type": "code",
      "metadata": {
        "id": "WqIOi3sHFYFx",
        "colab_type": "code",
        "colab": {
          "base_uri": "https://localhost:8080/",
          "height": 415
        },
        "outputId": "9ed22dc1-0bb2-40e6-8d9d-6d4a181d3368"
      },
      "source": [
        "# Plotting Histogram\n",
        "df.Make.value_counts().nlargest(40).plot(kind='bar', figsize=(10,5))\n",
        "plt.title(\"NUMBER OF CARS BY MAKE\")\n",
        "plt.ylabel('NUMBER OF CARS')\n",
        "plt.xlabel('MAKE');"
      ],
      "execution_count": 38,
      "outputs": [
        {
          "output_type": "display_data",
          "data": {
            "image/png": "[encoded data removed]",
            "text/plain": [
              "<Figure size 720x360 with 1 Axes>"
            ]
          },
          "metadata": {
            "tags": [],
            "needs_background": "light"
          }
        }
      ]
    },
    {
      "cell_type": "markdown",
      "metadata": {
        "id": "y-yjyctsKNAX",
        "colab_type": "text"
      },
      "source": [
        "- WE CAN SEE THAT CHEVROLET MADE THE MOST SELLINGS COMPARED TO OTHER COMPANIES CARS"
      ]
    },
    {
      "cell_type": "code",
      "metadata": {
        "id": "uNQvNPuWKPWO",
        "colab_type": "code",
        "colab": {
          "base_uri": "https://localhost:8080/",
          "height": 296
        },
        "outputId": "f77f3192-ecee-4933-e638-0789eb07af18"
      },
      "source": [
        "# Plotting Bar Graph\n",
        "sns.barplot(df['HP'],df['Price'])"
      ],
      "execution_count": 40,
      "outputs": [
        {
          "output_type": "execute_result",
          "data": {
            "text/plain": [
              "<matplotlib.axes._subplots.AxesSubplot at 0x7fd034241320>"
            ]
          },
          "metadata": {
            "tags": []
          },
          "execution_count": 40
        },
        {
          "output_type": "display_data",
          "data": {
            "image/png": "[encoded data removed]",
            "text/plain": [
              "<Figure size 432x288 with 1 Axes>"
            ]
          },
          "metadata": {
            "tags": [],
            "needs_background": "light"
          }
        }
      ]
    },
    {
      "cell_type": "code",
      "metadata": {
        "id": "mkW7TwU7KgBC",
        "colab_type": "code",
        "colab": {
          "base_uri": "https://localhost:8080/",
          "height": 296
        },
        "outputId": "1938cb18-482b-4ddf-9546-5981aa377573"
      },
      "source": [
        "# Plotting Scatter Graph\n",
        "sns.scatterplot(df['HP'],df['Price'])"
      ],
      "execution_count": 41,
      "outputs": [
        {
          "output_type": "execute_result",
          "data": {
            "text/plain": [
              "<matplotlib.axes._subplots.AxesSubplot at 0x7fd033c7c2e8>"
            ]
          },
          "metadata": {
            "tags": []
          },
          "execution_count": 41
        },
        {
          "output_type": "display_data",
          "data": {
            "image/png": "[encoded data removed]",
            "text/plain": [
              "<Figure size 432x288 with 1 Axes>"
            ]
          },
          "metadata": {
            "tags": [],
            "needs_background": "light"
          }
        }
      ]
    },
    {
      "cell_type": "markdown",
      "metadata": {
        "id": "7m63XmviLRJZ",
        "colab_type": "text"
      },
      "source": [
        "- WE CAN SEE THAT AS HP INCREASES PRICE INCREASES"
      ]
    },
    {
      "cell_type": "code",
      "metadata": {
        "id": "Fw0jDmzjKgnH",
        "colab_type": "code",
        "colab": {
          "base_uri": "https://localhost:8080/",
          "height": 296
        },
        "outputId": "19964411-ff49-4b8a-86ca-3bbf5ec39c6b"
      },
      "source": [
        "# Plotting Bar Graph\n",
        "sns.barplot(df['Cylinders'],df['Price'])"
      ],
      "execution_count": 42,
      "outputs": [
        {
          "output_type": "execute_result",
          "data": {
            "text/plain": [
              "<matplotlib.axes._subplots.AxesSubplot at 0x7fd033b72550>"
            ]
          },
          "metadata": {
            "tags": []
          },
          "execution_count": 42
        },
        {
          "output_type": "display_data",
          "data": {
            "image/png": "[encoded data removed]",
            "text/plain": [
              "<Figure size 432x288 with 1 Axes>"
            ]
          },
          "metadata": {
            "tags": [],
            "needs_background": "light"
          }
        }
      ]
    },
    {
      "cell_type": "code",
      "metadata": {
        "id": "vi5KLHFTKfca",
        "colab_type": "code",
        "colab": {
          "base_uri": "https://localhost:8080/",
          "height": 296
        },
        "outputId": "e538041b-f30a-4e61-aaa3-a4e36cf87dbd"
      },
      "source": [
        "# Plotting Scatter Graph\n",
        "sns.scatterplot(df['Cylinders'],df['Price'])"
      ],
      "execution_count": 43,
      "outputs": [
        {
          "output_type": "execute_result",
          "data": {
            "text/plain": [
              "<matplotlib.axes._subplots.AxesSubplot at 0x7fd033b72828>"
            ]
          },
          "metadata": {
            "tags": []
          },
          "execution_count": 43
        },
        {
          "output_type": "display_data",
          "data": {
            "image/png": "[encoded data removed]",
            "text/plain": [
              "<Figure size 432x288 with 1 Axes>"
            ]
          },
          "metadata": {
            "tags": [],
            "needs_background": "light"
          }
        }
      ]
    },
    {
      "cell_type": "code",
      "metadata": {
        "id": "Z86s03rfKwKr",
        "colab_type": "code",
        "colab": {
          "base_uri": "https://localhost:8080/",
          "height": 296
        },
        "outputId": "8253f696-d5fd-4239-b351-5f55522da631"
      },
      "source": [
        "# Plotting Bar Graph\n",
        "sns.barplot(df['MPG-H'],df['Price'])"
      ],
      "execution_count": 44,
      "outputs": [
        {
          "output_type": "execute_result",
          "data": {
            "text/plain": [
              "<matplotlib.axes._subplots.AxesSubplot at 0x7fd032271b70>"
            ]
          },
          "metadata": {
            "tags": []
          },
          "execution_count": 44
        },
        {
          "output_type": "display_data",
          "data": {
            "image/png": "[encoded data removed]",
            "text/plain": [
              "<Figure size 432x288 with 1 Axes>"
            ]
          },
          "metadata": {
            "tags": [],
            "needs_background": "light"
          }
        }
      ]
    },
    {
      "cell_type": "code",
      "metadata": {
        "id": "WdEwhXWeK0v5",
        "colab_type": "code",
        "colab": {
          "base_uri": "https://localhost:8080/",
          "height": 296
        },
        "outputId": "40d9937a-a0c6-41ff-e44f-c1b29b62ab7a"
      },
      "source": [
        "# Plotting Scatter Graph\n",
        "sns.scatterplot(df['MPG-H'],df['Price'])"
      ],
      "execution_count": 45,
      "outputs": [
        {
          "output_type": "execute_result",
          "data": {
            "text/plain": [
              "<matplotlib.axes._subplots.AxesSubplot at 0x7fd0321dfd30>"
            ]
          },
          "metadata": {
            "tags": []
          },
          "execution_count": 45
        },
        {
          "output_type": "display_data",
          "data": {
            "image/png": "[encoded data removed]",
            "text/plain": [
              "<Figure size 432x288 with 1 Axes>"
            ]
          },
          "metadata": {
            "tags": [],
            "needs_background": "light"
          }
        }
      ]
    },
    {
      "cell_type": "code",
      "metadata": {
        "id": "oio6x9CvK0KU",
        "colab_type": "code",
        "colab": {
          "base_uri": "https://localhost:8080/",
          "height": 296
        },
        "outputId": "de6e5f60-8a47-4e93-c795-c6c21286cac9"
      },
      "source": [
        "# Plotting Bar Graph\n",
        "sns.barplot(df['MPG-C'],df['Price'])"
      ],
      "execution_count": 46,
      "outputs": [
        {
          "output_type": "execute_result",
          "data": {
            "text/plain": [
              "<matplotlib.axes._subplots.AxesSubplot at 0x7fd0320fb438>"
            ]
          },
          "metadata": {
            "tags": []
          },
          "execution_count": 46
        },
        {
          "output_type": "display_data",
          "data": {
            "image/png": "[encoded data removed]",
            "text/plain": [
              "<Figure size 432x288 with 1 Axes>"
            ]
          },
          "metadata": {
            "tags": [],
            "needs_background": "light"
          }
        }
      ]
    },
    {
      "cell_type": "code",
      "metadata": {
        "id": "IkERI78zLzaX",
        "colab_type": "code",
        "colab": {
          "base_uri": "https://localhost:8080/",
          "height": 296
        },
        "outputId": "13748fdb-4ada-4b81-c542-a332b1bfbb6e"
      },
      "source": [
        "# Plotting Scatter Graph\n",
        "sns.scatterplot(df['MPG-C'],df['Price'])"
      ],
      "execution_count": 47,
      "outputs": [
        {
          "output_type": "execute_result",
          "data": {
            "text/plain": [
              "<matplotlib.axes._subplots.AxesSubplot at 0x7fd032136f98>"
            ]
          },
          "metadata": {
            "tags": []
          },
          "execution_count": 47
        },
        {
          "output_type": "display_data",
          "data": {
            "image/png": "[encoded data removed]",
            "text/plain": [
              "<Figure size 432x288 with 1 Axes>"
            ]
          },
          "metadata": {
            "tags": [],
            "needs_background": "light"
          }
        }
      ]
    },
    {
      "cell_type": "markdown",
      "metadata": {
        "id": "Nqs9RcGTL3uD",
        "colab_type": "text"
      },
      "source": [
        "- FROM MPG-H&G WITH PRICE, WE GET TO KNOW THAT AS MPG INCREASES PRICE INCREASES AND LATER IT DECREASES.\n",
        "- SINCE MPG AND NUMBER OF CYLINDERS ARE VERY LOW CORRELATED, INCREASING IN CYLINDERS DECREASES MPG AND THE PRICE GETS DECREASED"
      ]
    },
    {
      "cell_type": "markdown",
      "metadata": {
        "id": "SZaNgcJu4DD1",
        "colab_type": "text"
      },
      "source": [
        "* LABEL ENCODING REFERS TO CONVERTING THE LABELS INTO NUMERIC FORM SO AS TO CONVERT IT INTO THE MACHINE READABLE FORM.\n",
        "* MACHINE LEARNING ALGORITHMS CAN THEN DECIDE IN A BETTER WAY ON HOW THOSE LABELS MUST BE OPERATED."
      ]
    },
    {
      "cell_type": "markdown",
      "metadata": {
        "id": "zlVPP5_nI-z-",
        "colab_type": "text"
      },
      "source": [
        "* **ENCODING THE DATA**"
      ]
    },
    {
      "cell_type": "code",
      "metadata": {
        "id": "TvgwVrvJCx2v",
        "colab_type": "code",
        "colab": {
          "base_uri": "https://localhost:8080/",
          "height": 229
        },
        "outputId": "6e4fe6d4-da74-464d-e1d5-5947cbc37300"
      },
      "source": [
        "from sklearn.preprocessing import LabelEncoder\n",
        "#Creating the object instance\n",
        "enc=LabelEncoder()\n",
        "d=df.select_dtypes(exclude=[np.number]).columns\n",
        "for i in d:\n",
        "  df[i]=enc.fit_transform(df[i])\n",
        "print('THE LABEL ENCODED DATA IS:\\n')\n",
        "df.head()  "
      ],
      "execution_count": 49,
      "outputs": [
        {
          "output_type": "stream",
          "text": [
            "THE LABEL ENCODED DATA IS:\n",
            "\n"
          ],
          "name": "stdout"
        },
        {
          "output_type": "execute_result",
          "data": {
            "text/html": [
              "<div>\n",
              "<style scoped>\n",
              "    .dataframe tbody tr th:only-of-type {\n",
              "        vertical-align: middle;\n",
              "    }\n",
              "\n",
              "    .dataframe tbody tr th {\n",
              "        vertical-align: top;\n",
              "    }\n",
              "\n",
              "    .dataframe thead th {\n",
              "        text-align: right;\n",
              "    }\n",
              "</style>\n",
              "<table border=\"1\" class=\"dataframe\">\n",
              "  <thead>\n",
              "    <tr style=\"text-align: right;\">\n",
              "      <th></th>\n",
              "      <th>Make</th>\n",
              "      <th>HP</th>\n",
              "      <th>Cylinders</th>\n",
              "      <th>Transmission</th>\n",
              "      <th>Drive Mode</th>\n",
              "      <th>Vehicle Size</th>\n",
              "      <th>Vehicle Style</th>\n",
              "      <th>MPG-H</th>\n",
              "      <th>MPG-C</th>\n",
              "      <th>Price</th>\n",
              "    </tr>\n",
              "  </thead>\n",
              "  <tbody>\n",
              "    <tr>\n",
              "      <th>0</th>\n",
              "      <td>3</td>\n",
              "      <td>335.0</td>\n",
              "      <td>6.0</td>\n",
              "      <td>2</td>\n",
              "      <td>3</td>\n",
              "      <td>0</td>\n",
              "      <td>8</td>\n",
              "      <td>26</td>\n",
              "      <td>19</td>\n",
              "      <td>46135</td>\n",
              "    </tr>\n",
              "    <tr>\n",
              "      <th>1</th>\n",
              "      <td>3</td>\n",
              "      <td>300.0</td>\n",
              "      <td>6.0</td>\n",
              "      <td>2</td>\n",
              "      <td>3</td>\n",
              "      <td>0</td>\n",
              "      <td>6</td>\n",
              "      <td>28</td>\n",
              "      <td>19</td>\n",
              "      <td>40650</td>\n",
              "    </tr>\n",
              "    <tr>\n",
              "      <th>2</th>\n",
              "      <td>3</td>\n",
              "      <td>300.0</td>\n",
              "      <td>6.0</td>\n",
              "      <td>2</td>\n",
              "      <td>3</td>\n",
              "      <td>0</td>\n",
              "      <td>8</td>\n",
              "      <td>28</td>\n",
              "      <td>20</td>\n",
              "      <td>36350</td>\n",
              "    </tr>\n",
              "    <tr>\n",
              "      <th>3</th>\n",
              "      <td>3</td>\n",
              "      <td>230.0</td>\n",
              "      <td>6.0</td>\n",
              "      <td>2</td>\n",
              "      <td>3</td>\n",
              "      <td>0</td>\n",
              "      <td>8</td>\n",
              "      <td>28</td>\n",
              "      <td>18</td>\n",
              "      <td>29450</td>\n",
              "    </tr>\n",
              "    <tr>\n",
              "      <th>4</th>\n",
              "      <td>3</td>\n",
              "      <td>230.0</td>\n",
              "      <td>6.0</td>\n",
              "      <td>2</td>\n",
              "      <td>3</td>\n",
              "      <td>0</td>\n",
              "      <td>6</td>\n",
              "      <td>28</td>\n",
              "      <td>18</td>\n",
              "      <td>34500</td>\n",
              "    </tr>\n",
              "  </tbody>\n",
              "</table>\n",
              "</div>"
            ],
            "text/plain": [
              "   Make     HP  Cylinders  Transmission  ...  Vehicle Style  MPG-H  MPG-C  Price\n",
              "0     3  335.0        6.0             2  ...              8     26     19  46135\n",
              "1     3  300.0        6.0             2  ...              6     28     19  40650\n",
              "2     3  300.0        6.0             2  ...              8     28     20  36350\n",
              "3     3  230.0        6.0             2  ...              8     28     18  29450\n",
              "4     3  230.0        6.0             2  ...              6     28     18  34500\n",
              "\n",
              "[5 rows x 10 columns]"
            ]
          },
          "metadata": {
            "tags": []
          },
          "execution_count": 49
        }
      ]
    },
    {
      "cell_type": "markdown",
      "metadata": {
        "id": "G_lw0h70Jmic",
        "colab_type": "text"
      },
      "source": [
        "* **SPLITTING THE DATA**"
      ]
    },
    {
      "cell_type": "markdown",
      "metadata": {
        "id": "tFvTswSvAh7h",
        "colab_type": "text"
      },
      "source": [
        "SPLITTING THE DATA IN THE RATIO 80:20 WHERE;\n",
        "  * 80% --> TRAINING SET\n",
        "  * 20% --> TESTING SET"
      ]
    },
    {
      "cell_type": "markdown",
      "metadata": {
        "id": "RHgxVTU0krub",
        "colab_type": "text"
      },
      "source": [
        "* USING RANDOM FOREST REGRESSOR"
      ]
    },
    {
      "cell_type": "code",
      "metadata": {
        "id": "Ytr1kZzk6P-S",
        "colab_type": "code",
        "colab": {}
      },
      "source": [
        "from sklearn.ensemble import RandomForestRegressor\n",
        "from sklearn.model_selection import train_test_split\n",
        "\n",
        "y=df.iloc[:,8]     \n",
        "X=df.iloc[:,0:8]    #PRICE IS THE TARGET VARIABLE\n",
        "X_train, X_test, y_train, y_test = train_test_split(X, y, test_size=.25, random_state=0)\n",
        "model = RandomForestRegressor(random_state=5)\n",
        "model.fit(X_train, y_train)\n",
        "pred = model.predict(X_test)"
      ],
      "execution_count": 50,
      "outputs": []
    },
    {
      "cell_type": "code",
      "metadata": {
        "id": "kFztn11D6QZX",
        "colab_type": "code",
        "colab": {
          "base_uri": "https://localhost:8080/",
          "height": 50
        },
        "outputId": "f11f3d94-7de6-4372-8895-797760c8fbba"
      },
      "source": [
        "#ACCURACY OF THE MODEL\n",
        "print(\"THE MODEL SCORE OF THE MODEL IS :\\n\",model.score(X_test,y_test))"
      ],
      "execution_count": 51,
      "outputs": [
        {
          "output_type": "stream",
          "text": [
            "THE MODEL SCORE OF THE MODEL IS :\n",
            " 0.9867151998797598\n"
          ],
          "name": "stdout"
        }
      ]
    },
    {
      "cell_type": "markdown",
      "metadata": {
        "id": "5EPhKAHNe4Nm",
        "colab_type": "text"
      },
      "source": [
        "THE MODEL SCORE OF THE MODEL USING RANDOM FOREST REGRESSION IS FOUND TO BE 0.9867 WHICH IS CLOSE TO 1"
      ]
    },
    {
      "cell_type": "markdown",
      "metadata": {
        "id": "nAO-q5TXpMyD",
        "colab_type": "text"
      },
      "source": [
        "ONE MORE ADVANTAGE OF USING RANDOM FOREST IS THAT IT GIVES BETTER RESULT THAN OTHER ALGORITHMS."
      ]
    },
    {
      "cell_type": "markdown",
      "metadata": {
        "id": "AdRP2MXKMEXS",
        "colab_type": "text"
      },
      "source": [
        "* USING LOGISTIC REGRESSION"
      ]
    },
    {
      "cell_type": "code",
      "metadata": {
        "id": "SX5xx21xL8CG",
        "colab_type": "code",
        "colab": {}
      },
      "source": [
        "from sklearn.model_selection import train_test_split\n",
        "from sklearn.linear_model import LogisticRegression"
      ],
      "execution_count": 52,
      "outputs": []
    },
    {
      "cell_type": "code",
      "metadata": {
        "id": "Ii9Y06s1MPpx",
        "colab_type": "code",
        "colab": {}
      },
      "source": [
        "y=df.iloc[:,8]\n",
        "x=df.iloc[:,0:8]\n",
        "x_train,x_test,Y_train,Y_test=train_test_split(x,y,test_size=0.2,random_state=0)"
      ],
      "execution_count": 53,
      "outputs": []
    },
    {
      "cell_type": "code",
      "metadata": {
        "id": "MPUrB0xuMPg-",
        "colab_type": "code",
        "colab": {
          "base_uri": "https://localhost:8080/",
          "height": 185
        },
        "outputId": "b72efc2d-ae28-4f3b-da25-6ffc5b5897a3"
      },
      "source": [
        "logistic_regression=LogisticRegression()\n",
        "logistic_regression.fit(x_train,Y_train)\n",
        "Y_pred=logistic_regression.predict(x_test)\n",
        "print(\"THE MODEL SCORE OF THE MODEL IS :\\n\",logistic_regression.score(x_test,Y_test))"
      ],
      "execution_count": 54,
      "outputs": [
        {
          "output_type": "stream",
          "text": [
            "THE MODEL SCORE OF THE MODEL IS :\n",
            " 0.2103542234332425\n"
          ],
          "name": "stdout"
        },
        {
          "output_type": "stream",
          "text": [
            "/usr/local/lib/python3.6/dist-packages/sklearn/linear_model/_logistic.py:940: ConvergenceWarning: lbfgs failed to converge (status=1):\n",
            "STOP: TOTAL NO. of ITERATIONS REACHED LIMIT.\n",
            "\n",
            "Increase the number of iterations (max_iter) or scale the data as shown in:\n",
            "    https://scikit-learn.org/stable/modules/preprocessing.html\n",
            "Please also refer to the documentation for alternative solver options:\n",
            "    https://scikit-learn.org/stable/modules/linear_model.html#logistic-regression\n",
            "  extra_warning_msg=_LOGISTIC_SOLVER_CONVERGENCE_MSG)\n"
          ],
          "name": "stderr"
        }
      ]
    },
    {
      "cell_type": "markdown",
      "metadata": {
        "id": "Msfp9HcsSckb",
        "colab_type": "text"
      },
      "source": [
        "* USING LINEAR REGRESSION"
      ]
    },
    {
      "cell_type": "code",
      "metadata": {
        "id": "8QKip3E8RdTZ",
        "colab_type": "code",
        "colab": {}
      },
      "source": [
        "from sklearn.model_selection import train_test_split\n",
        "from sklearn.linear_model import LinearRegression"
      ],
      "execution_count": 55,
      "outputs": []
    },
    {
      "cell_type": "code",
      "metadata": {
        "id": "M2D7S5YQRdcS",
        "colab_type": "code",
        "colab": {}
      },
      "source": [
        "yy=df.iloc[:,8]\n",
        "xx=df.iloc[:,0:8]\n",
        "xx_train,xx_test,yy_train,yy_test=train_test_split(xx,yy,test_size=0.2,random_state=0)"
      ],
      "execution_count": 57,
      "outputs": []
    },
    {
      "cell_type": "code",
      "metadata": {
        "id": "B0p27p3MRdYx",
        "colab_type": "code",
        "colab": {
          "base_uri": "https://localhost:8080/",
          "height": 50
        },
        "outputId": "0826bf43-ac20-4f9f-ac95-45cd4de56e8a"
      },
      "source": [
        "linear_regression=LinearRegression()\n",
        "linear_regression.fit(xx_train,yy_train)\n",
        "yy_pred=linear_regression.predict(xx_test)\n",
        "print(\"THE MODEL SCORE OF THE MODEL IS :\\n\",linear_regression.score(xx_test,yy_test))"
      ],
      "execution_count": 58,
      "outputs": [
        {
          "output_type": "stream",
          "text": [
            "THE MODEL SCORE OF THE MODEL IS :\n",
            " 0.9217010532718792\n"
          ],
          "name": "stdout"
        }
      ]
    },
    {
      "cell_type": "markdown",
      "metadata": {
        "id": "e7p0jv5NSkme",
        "colab_type": "text"
      },
      "source": [
        "* USING KNEIGHBOR CLASSIFIER"
      ]
    },
    {
      "cell_type": "code",
      "metadata": {
        "id": "I7H7EzkURdK0",
        "colab_type": "code",
        "colab": {}
      },
      "source": [
        "from sklearn.model_selection import train_test_split\n",
        "from sklearn.neighbors import KNeighborsClassifier"
      ],
      "execution_count": 59,
      "outputs": []
    },
    {
      "cell_type": "code",
      "metadata": {
        "id": "UjYLqo2LTCcI",
        "colab_type": "code",
        "colab": {}
      },
      "source": [
        "yyy=df.iloc[:,8]\n",
        "xxx=df.iloc[:,0:8]\n",
        "xxx_train,xxx_test,yyy_train,yyy_test=train_test_split(xxx,yyy,test_size=0.2,random_state=0)"
      ],
      "execution_count": 60,
      "outputs": []
    },
    {
      "cell_type": "code",
      "metadata": {
        "id": "Uw38S34aTCZd",
        "colab_type": "code",
        "colab": {
          "base_uri": "https://localhost:8080/",
          "height": 50
        },
        "outputId": "3b95eea9-cd69-4d79-9c89-da6d355de2e3"
      },
      "source": [
        "classifier_knn=KNeighborsClassifier(n_neighbors=3)   \n",
        "classifier_knn.fit(xxx_train,yyy_train)\n",
        "yyy_pred=classifier_knn.predict(xxx_test)\n",
        "print(\"THE MODEL SCORE OF THE MODEL IS :\\n\",classifier_knn.score(xxx_test,yyy_test))"
      ],
      "execution_count": 61,
      "outputs": [
        {
          "output_type": "stream",
          "text": [
            "THE MODEL SCORE OF THE MODEL IS :\n",
            " 0.7787465940054495\n"
          ],
          "name": "stdout"
        }
      ]
    },
    {
      "cell_type": "markdown",
      "metadata": {
        "id": "CmclYaDhUAGL",
        "colab_type": "text"
      },
      "source": [
        "* HENCE WE CAN SEE THAT RANDOM FOREST IS BETTER THAN OTHER ALGORITHMS FOR THIS PROJECT"
      ]
    },
    {
      "cell_type": "markdown",
      "metadata": {
        "id": "eBL0r_gmB-Jx",
        "colab_type": "text"
      },
      "source": [
        "RANDOM FOREST REGRESSION IS BETTER BECAUSE;\n",
        "* IT HANDLES HIGH_DIMENSIONALITY VERY WELL SINCE IT TAKES SUBSETS OF DATA.\n",
        "* IT IS EXTREMELY VERSATILE AND REQUIRES VERY LITTLE PREPROCESSING.\n",
        "* IT IS GREAT AT AVOIDING OVERFITTING SINCE EACH DECISION TRESS HAS LOW BIAS."
      ]
    },
    {
      "cell_type": "markdown",
      "metadata": {
        "id": "DVbPczvEM_tk",
        "colab_type": "text"
      },
      "source": [
        "# Step 9 :- Splitting and Generating the Score of the Model"
      ]
    },
    {
      "cell_type": "markdown",
      "metadata": {
        "id": "GYXh7sOXN2_O",
        "colab_type": "text"
      },
      "source": [
        "- LABEL ENCODING REFERS TO CONVERTING THE LABELS INTO NUMERIC FORM SO AS TO CONVERT IT INTO THE MACHINE READABLE FORM.\n",
        "- MACHINE LEARNING ALGORITHMS CAN THEN DECIDE IN A BETTER WAY ON HOW THOSE LABELS MUST BE OPERATED."
      ]
    },
    {
      "cell_type": "markdown",
      "metadata": {
        "id": "HWkM9AKtN6Lz",
        "colab_type": "text"
      },
      "source": [
        "- ENCODING THE DATA"
      ]
    },
    {
      "cell_type": "code",
      "metadata": {
        "id": "NBI9HLTMOA2n",
        "colab_type": "code",
        "colab": {
          "base_uri": "https://localhost:8080/",
          "height": 229
        },
        "outputId": "2ed5feca-07b5-40f4-c5b8-18f7cae8f7f2"
      },
      "source": [
        "from sklearn.preprocessing import LabelEncoder\n",
        "#Creating the object instance\n",
        "enc=LabelEncoder()\n",
        "d=df.select_dtypes(exclude=[np.number]).columns\n",
        "for i in d:\n",
        "  df[i]=enc.fit_transform(df[i])\n",
        "print('THE LABEL ENCODED DATA IS:\\n')\n",
        "df.head()  "
      ],
      "execution_count": 63,
      "outputs": [
        {
          "output_type": "stream",
          "text": [
            "THE LABEL ENCODED DATA IS:\n",
            "\n"
          ],
          "name": "stdout"
        },
        {
          "output_type": "execute_result",
          "data": {
            "text/html": [
              "<div>\n",
              "<style scoped>\n",
              "    .dataframe tbody tr th:only-of-type {\n",
              "        vertical-align: middle;\n",
              "    }\n",
              "\n",
              "    .dataframe tbody tr th {\n",
              "        vertical-align: top;\n",
              "    }\n",
              "\n",
              "    .dataframe thead th {\n",
              "        text-align: right;\n",
              "    }\n",
              "</style>\n",
              "<table border=\"1\" class=\"dataframe\">\n",
              "  <thead>\n",
              "    <tr style=\"text-align: right;\">\n",
              "      <th></th>\n",
              "      <th>Make</th>\n",
              "      <th>HP</th>\n",
              "      <th>Cylinders</th>\n",
              "      <th>Transmission</th>\n",
              "      <th>Drive Mode</th>\n",
              "      <th>Vehicle Size</th>\n",
              "      <th>Vehicle Style</th>\n",
              "      <th>MPG-H</th>\n",
              "      <th>MPG-C</th>\n",
              "      <th>Price</th>\n",
              "    </tr>\n",
              "  </thead>\n",
              "  <tbody>\n",
              "    <tr>\n",
              "      <th>0</th>\n",
              "      <td>3</td>\n",
              "      <td>335.0</td>\n",
              "      <td>6.0</td>\n",
              "      <td>2</td>\n",
              "      <td>3</td>\n",
              "      <td>0</td>\n",
              "      <td>8</td>\n",
              "      <td>26</td>\n",
              "      <td>19</td>\n",
              "      <td>46135</td>\n",
              "    </tr>\n",
              "    <tr>\n",
              "      <th>1</th>\n",
              "      <td>3</td>\n",
              "      <td>300.0</td>\n",
              "      <td>6.0</td>\n",
              "      <td>2</td>\n",
              "      <td>3</td>\n",
              "      <td>0</td>\n",
              "      <td>6</td>\n",
              "      <td>28</td>\n",
              "      <td>19</td>\n",
              "      <td>40650</td>\n",
              "    </tr>\n",
              "    <tr>\n",
              "      <th>2</th>\n",
              "      <td>3</td>\n",
              "      <td>300.0</td>\n",
              "      <td>6.0</td>\n",
              "      <td>2</td>\n",
              "      <td>3</td>\n",
              "      <td>0</td>\n",
              "      <td>8</td>\n",
              "      <td>28</td>\n",
              "      <td>20</td>\n",
              "      <td>36350</td>\n",
              "    </tr>\n",
              "    <tr>\n",
              "      <th>3</th>\n",
              "      <td>3</td>\n",
              "      <td>230.0</td>\n",
              "      <td>6.0</td>\n",
              "      <td>2</td>\n",
              "      <td>3</td>\n",
              "      <td>0</td>\n",
              "      <td>8</td>\n",
              "      <td>28</td>\n",
              "      <td>18</td>\n",
              "      <td>29450</td>\n",
              "    </tr>\n",
              "    <tr>\n",
              "      <th>4</th>\n",
              "      <td>3</td>\n",
              "      <td>230.0</td>\n",
              "      <td>6.0</td>\n",
              "      <td>2</td>\n",
              "      <td>3</td>\n",
              "      <td>0</td>\n",
              "      <td>6</td>\n",
              "      <td>28</td>\n",
              "      <td>18</td>\n",
              "      <td>34500</td>\n",
              "    </tr>\n",
              "  </tbody>\n",
              "</table>\n",
              "</div>"
            ],
            "text/plain": [
              "   Make     HP  Cylinders  Transmission  ...  Vehicle Style  MPG-H  MPG-C  Price\n",
              "0     3  335.0        6.0             2  ...              8     26     19  46135\n",
              "1     3  300.0        6.0             2  ...              6     28     19  40650\n",
              "2     3  300.0        6.0             2  ...              8     28     20  36350\n",
              "3     3  230.0        6.0             2  ...              8     28     18  29450\n",
              "4     3  230.0        6.0             2  ...              6     28     18  34500\n",
              "\n",
              "[5 rows x 10 columns]"
            ]
          },
          "metadata": {
            "tags": []
          },
          "execution_count": 63
        }
      ]
    },
    {
      "cell_type": "markdown",
      "metadata": {
        "id": "TcL61O0GOJU6",
        "colab_type": "text"
      },
      "source": [
        "- SPLITTING THE DATA"
      ]
    },
    {
      "cell_type": "markdown",
      "metadata": {
        "id": "DPdNWzL0OPR3",
        "colab_type": "text"
      },
      "source": [
        "- SPLITTING THE DATA IN THE RATIO 80:20 WHERE;\n",
        "\n",
        "  - 80% --> TRAINING SET\n",
        "  - 20% --> TESTING SET"
      ]
    },
    {
      "cell_type": "markdown",
      "metadata": {
        "id": "oz04PewKOZP3",
        "colab_type": "text"
      },
      "source": [
        "- USING RANDOM FOREST REGRESSOR"
      ]
    },
    {
      "cell_type": "code",
      "metadata": {
        "id": "fQ6iJEsdOdA-",
        "colab_type": "code",
        "colab": {}
      },
      "source": [
        "from sklearn.ensemble import RandomForestRegressor\n",
        "from sklearn.model_selection import train_test_split\n",
        "\n",
        "y=df.iloc[:,8]     \n",
        "X=df.iloc[:,0:8]    #PRICE IS THE TARGET VARIABLE\n",
        "X_train, X_test, y_train, y_test = train_test_split(X, y, test_size=.25, random_state=0)\n",
        "model = RandomForestRegressor(random_state=5)\n",
        "model.fit(X_train, y_train)\n",
        "pred = model.predict(X_test)"
      ],
      "execution_count": 64,
      "outputs": []
    },
    {
      "cell_type": "code",
      "metadata": {
        "id": "OhScxdlROgTP",
        "colab_type": "code",
        "colab": {
          "base_uri": "https://localhost:8080/",
          "height": 50
        },
        "outputId": "c5aa72d2-1ee8-4a7c-e6fd-8d041dc644e4"
      },
      "source": [
        "#ACCURACY OF THE MODEL\n",
        "print(\"THE MODEL SCORE OF THE MODEL IS :\\n\",model.score(X_test,y_test))"
      ],
      "execution_count": 65,
      "outputs": [
        {
          "output_type": "stream",
          "text": [
            "THE MODEL SCORE OF THE MODEL IS :\n",
            " 0.9867151998797598\n"
          ],
          "name": "stdout"
        }
      ]
    },
    {
      "cell_type": "markdown",
      "metadata": {
        "id": "2oteMn6ROtbF",
        "colab_type": "text"
      },
      "source": [
        "THE MODEL SCORE OF THE MODEL USING RANDOM FOREST REGRESSION IS FOUND TO BE 0.9867 WHICH IS CLOSE TO 1"
      ]
    },
    {
      "cell_type": "markdown",
      "metadata": {
        "id": "k-e6GryyOx_r",
        "colab_type": "text"
      },
      "source": [
        "ONE MORE ADVANTAGE OF USING RANDOM FOREST IS THAT IT GIVES BETTER RESULT THAN OTHER ALGORITHMS."
      ]
    },
    {
      "cell_type": "markdown",
      "metadata": {
        "id": "nTMLNRdCO3rT",
        "colab_type": "text"
      },
      "source": [
        "- USING LOGISTIC REGRESSION"
      ]
    },
    {
      "cell_type": "code",
      "metadata": {
        "id": "uXZIttjhO8BW",
        "colab_type": "code",
        "colab": {}
      },
      "source": [
        "from sklearn.model_selection import train_test_split\n",
        "from sklearn.linear_model import LogisticRegression"
      ],
      "execution_count": 66,
      "outputs": []
    },
    {
      "cell_type": "code",
      "metadata": {
        "id": "wzm5iCt_O80n",
        "colab_type": "code",
        "colab": {}
      },
      "source": [
        "y=df.iloc[:,8]\n",
        "x=df.iloc[:,0:8]\n",
        "x_train,x_test,Y_train,Y_test=train_test_split(x,y,test_size=0.2,random_state=0)"
      ],
      "execution_count": 67,
      "outputs": []
    },
    {
      "cell_type": "code",
      "metadata": {
        "id": "Fh2WBcelO9RS",
        "colab_type": "code",
        "colab": {
          "base_uri": "https://localhost:8080/",
          "height": 185
        },
        "outputId": "a65f078b-94f7-4e8a-abb1-52eb873c0bc7"
      },
      "source": [
        "logistic_regression=LogisticRegression()\n",
        "logistic_regression.fit(x_train,Y_train)\n",
        "Y_pred=logistic_regression.predict(x_test)\n",
        "print(\"THE MODEL SCORE OF THE MODEL IS :\\n\",logistic_regression.score(x_test,Y_test))"
      ],
      "execution_count": 68,
      "outputs": [
        {
          "output_type": "stream",
          "text": [
            "THE MODEL SCORE OF THE MODEL IS :\n",
            " 0.2103542234332425\n"
          ],
          "name": "stdout"
        },
        {
          "output_type": "stream",
          "text": [
            "/usr/local/lib/python3.6/dist-packages/sklearn/linear_model/_logistic.py:940: ConvergenceWarning: lbfgs failed to converge (status=1):\n",
            "STOP: TOTAL NO. of ITERATIONS REACHED LIMIT.\n",
            "\n",
            "Increase the number of iterations (max_iter) or scale the data as shown in:\n",
            "    https://scikit-learn.org/stable/modules/preprocessing.html\n",
            "Please also refer to the documentation for alternative solver options:\n",
            "    https://scikit-learn.org/stable/modules/linear_model.html#logistic-regression\n",
            "  extra_warning_msg=_LOGISTIC_SOLVER_CONVERGENCE_MSG)\n"
          ],
          "name": "stderr"
        }
      ]
    },
    {
      "cell_type": "markdown",
      "metadata": {
        "id": "SHBc8OCyPHl4",
        "colab_type": "text"
      },
      "source": [
        "- USING LINEAR REGRESSION"
      ]
    },
    {
      "cell_type": "code",
      "metadata": {
        "id": "mecn2QrpPJgu",
        "colab_type": "code",
        "colab": {}
      },
      "source": [
        "from sklearn.model_selection import train_test_split\n",
        "from sklearn.linear_model import LinearRegression"
      ],
      "execution_count": null,
      "outputs": []
    },
    {
      "cell_type": "code",
      "metadata": {
        "id": "NbmNqGmhPJ97",
        "colab_type": "code",
        "colab": {}
      },
      "source": [
        "yy=df.iloc[:,8]\n",
        "xx=df.iloc[:,0:8]\n",
        "xx_train,xx_test,yy_train,yy_test=train_test_split(xx,yy,test_size=0.2,random_state=0)"
      ],
      "execution_count": 69,
      "outputs": []
    },
    {
      "cell_type": "code",
      "metadata": {
        "id": "M40H_anrPKXU",
        "colab_type": "code",
        "colab": {
          "base_uri": "https://localhost:8080/",
          "height": 50
        },
        "outputId": "7d6af9ef-f3e1-469d-f2d8-d05ce18f50fb"
      },
      "source": [
        "linear_regression=LinearRegression()\n",
        "linear_regression.fit(xx_train,yy_train)\n",
        "yy_pred=linear_regression.predict(xx_test)\n",
        "print(\"THE MODEL SCORE OF THE MODEL IS :\\n\",linear_regression.score(xx_test,yy_test))"
      ],
      "execution_count": 70,
      "outputs": [
        {
          "output_type": "stream",
          "text": [
            "THE MODEL SCORE OF THE MODEL IS :\n",
            " 0.9217010532718792\n"
          ],
          "name": "stdout"
        }
      ]
    },
    {
      "cell_type": "markdown",
      "metadata": {
        "id": "Y74azYT5PYJR",
        "colab_type": "text"
      },
      "source": [
        "- USING KNEIGHBOR CLASSIFIER"
      ]
    },
    {
      "cell_type": "code",
      "metadata": {
        "id": "lKiY70fTPZ3a",
        "colab_type": "code",
        "colab": {}
      },
      "source": [
        "from sklearn.model_selection import train_test_split\n",
        "from sklearn.neighbors import KNeighborsClassifier"
      ],
      "execution_count": 71,
      "outputs": []
    },
    {
      "cell_type": "code",
      "metadata": {
        "id": "yCLF2EaFPc7Y",
        "colab_type": "code",
        "colab": {}
      },
      "source": [
        "yyy=df.iloc[:,8]\n",
        "xxx=df.iloc[:,0:8]\n",
        "xxx_train,xxx_test,yyy_train,yyy_test=train_test_split(xxx,yyy,test_size=0.2,random_state=0)"
      ],
      "execution_count": 72,
      "outputs": []
    },
    {
      "cell_type": "code",
      "metadata": {
        "id": "_ToT7AfuPg3X",
        "colab_type": "code",
        "colab": {
          "base_uri": "https://localhost:8080/",
          "height": 50
        },
        "outputId": "d4af319f-d0e0-47d3-9a9e-cd4fa0532201"
      },
      "source": [
        "classifier_knn=KNeighborsClassifier(n_neighbors=3)   \n",
        "classifier_knn.fit(xxx_train,yyy_train)\n",
        "yyy_pred=classifier_knn.predict(xxx_test)\n",
        "print(\"THE MODEL SCORE OF THE MODEL IS :\\n\",classifier_knn.score(xxx_test,yyy_test))"
      ],
      "execution_count": 73,
      "outputs": [
        {
          "output_type": "stream",
          "text": [
            "THE MODEL SCORE OF THE MODEL IS :\n",
            " 0.7787465940054495\n"
          ],
          "name": "stdout"
        }
      ]
    },
    {
      "cell_type": "markdown",
      "metadata": {
        "id": "tGvNRpOUPpA8",
        "colab_type": "text"
      },
      "source": [
        "- HENCE WE CAN SEE THAT RANDOM FOREST IS BETTER THAN OTHER ALGORITHMS FOR THIS PROJECT"
      ]
    },
    {
      "cell_type": "markdown",
      "metadata": {
        "id": "BaPPqGUHPs5L",
        "colab_type": "text"
      },
      "source": [
        "RANDOM FOREST REGRESSION IS BETTER BECAUSE;\n",
        "\n",
        "- IT HANDLES HIGH_DIMENSIONALITY VERY WELL SINCE IT TAKES SUBSETS OF DATA.\n",
        "- IT IS EXTREMELY VERSATILE AND REQUIRES VERY LITTLE PREPROCESSING.\n",
        "- IT IS GREAT AT AVOIDING OVERFITTING SINCE EACH DECISION TRESS HAS LOW BIAS."
      ]
    },
    {
      "cell_type": "markdown",
      "metadata": {
        "id": "Bx86769XNbth",
        "colab_type": "text"
      },
      "source": [
        "# Step 10 :- Performance Check"
      ]
    },
    {
      "cell_type": "markdown",
      "metadata": {
        "id": "6GznlkxTP8Ot",
        "colab_type": "text"
      },
      "source": [
        "- MEAN OF THE MODEL"
      ]
    },
    {
      "cell_type": "code",
      "metadata": {
        "id": "sjA09Yr0P_3X",
        "colab_type": "code",
        "colab": {
          "base_uri": "https://localhost:8080/",
          "height": 50
        },
        "outputId": "eb38ffd0-3591-4001-d725-6c848d80a5de"
      },
      "source": [
        "print(\"THE MEAN PRICE OF THE MODEL IS:\\n\",round(df['Price'].mean(),2))"
      ],
      "execution_count": 74,
      "outputs": [
        {
          "output_type": "stream",
          "text": [
            "THE MEAN PRICE OF THE MODEL IS:\n",
            " 29656.22\n"
          ],
          "name": "stdout"
        }
      ]
    },
    {
      "cell_type": "markdown",
      "metadata": {
        "id": "e9yy1euiQFWD",
        "colab_type": "text"
      },
      "source": [
        "- THE MEAN SQUARED ERROR (MSE) MEASURES THE AVERAGE OF THE SQUARES OF ERRORS - THAT IS, THE AVERAGE SQUARED DIFFERENCE BETWEEN THE ESTIMATED VALUES AND THE ACTUAL VALUES."
      ]
    },
    {
      "cell_type": "markdown",
      "metadata": {
        "id": "l8ND8RAtQF5C",
        "colab_type": "text"
      },
      "source": [
        "- ROOT MEAN SQUARED ERROR CORRESPONDS TO THE AVERAGE DIFFERENCE BETWEEN THE OBSERVED KNOWN VALUES OF THE OUTCOME AND THE PREDICTED VALUES BY THE MODEL.\n",
        "- LOWER THE VALUE, BETTER THE MODEL"
      ]
    },
    {
      "cell_type": "markdown",
      "metadata": {
        "id": "FKBIxf0HQRgt",
        "colab_type": "text"
      },
      "source": [
        "- R-SQUARED EVALUATES THE SCATTER OF THE DATA POINTS AROUND THE FITTED REGRESSION.\n",
        "- ASLO CALLED COEFFICIENT OF DETERMINATION/MULTIPLE DETERMINATION.\n",
        "- HIGHER THE VALUE REPRESENTS SMALLER DIFFERENCES BETWEEN THE OBSERVED DATA ABD THE FITTED VALUES."
      ]
    },
    {
      "cell_type": "code",
      "metadata": {
        "id": "-6ThyIXbQVXL",
        "colab_type": "code",
        "colab": {}
      },
      "source": [
        "from sklearn.metrics import mean_absolute_error\n",
        "from sklearn.metrics import r2_score,mean_squared_error\n",
        "from sklearn import metrics"
      ],
      "execution_count": 75,
      "outputs": []
    },
    {
      "cell_type": "markdown",
      "metadata": {
        "id": "6Vnm1QLYQa6M",
        "colab_type": "text"
      },
      "source": [
        "- USING RANDOM FOREST REGRESSION"
      ]
    },
    {
      "cell_type": "code",
      "metadata": {
        "id": "3aMRHQr3Qeev",
        "colab_type": "code",
        "colab": {
          "base_uri": "https://localhost:8080/",
          "height": 118
        },
        "outputId": "63734a36-4f75-437d-f4df-607a2a39a872"
      },
      "source": [
        "print(\"THE MEAN SQUARED ERROR IS :\\n\",metrics.mean_absolute_error(y_test, pred))\n",
        "print(\"ROOT MEAN SQUARE ERROR IS :\\n\",np.sqrt(metrics.mean_squared_error(y_test,pred)))\n",
        "print(\"R-SQUARED SCORE IS :\\n\",metrics.r2_score(y_test,pred))"
      ],
      "execution_count": 76,
      "outputs": [
        {
          "output_type": "stream",
          "text": [
            "THE MEAN SQUARED ERROR IS :\n",
            " 0.23515058137846623\n",
            "ROOT MEAN SQUARE ERROR IS :\n",
            " 0.5175115362543838\n",
            "R-SQUARED SCORE IS :\n",
            " 0.9867151998797598\n"
          ],
          "name": "stdout"
        }
      ]
    },
    {
      "cell_type": "markdown",
      "metadata": {
        "id": "4XerGIZfQh2y",
        "colab_type": "text"
      },
      "source": [
        "- USING LINEAR REGRESSION"
      ]
    },
    {
      "cell_type": "code",
      "metadata": {
        "id": "9w74gNW6QktQ",
        "colab_type": "code",
        "colab": {
          "base_uri": "https://localhost:8080/",
          "height": 118
        },
        "outputId": "a5dca877-8729-446a-e387-2f502261ddf6"
      },
      "source": [
        "print(\"THE MEAN SQUARED ERROR IS :\\n\",metrics.mean_absolute_error(yy_test,yy_pred))\n",
        "print(\"ROOT MEAN SQUARE ERROR IS :\\n\",np.sqrt(metrics.mean_squared_error(yy_test,yy_pred)))\n",
        "print(\"R-SQUARED SCORE IS :\\n\",metrics.r2_score(yy_test,yy_pred))"
      ],
      "execution_count": 77,
      "outputs": [
        {
          "output_type": "stream",
          "text": [
            "THE MEAN SQUARED ERROR IS :\n",
            " 0.9070058285811458\n",
            "ROOT MEAN SQUARE ERROR IS :\n",
            " 1.2525141681776024\n",
            "R-SQUARED SCORE IS :\n",
            " 0.9217010532718791\n"
          ],
          "name": "stdout"
        }
      ]
    },
    {
      "cell_type": "markdown",
      "metadata": {
        "id": "2mBZFyQoQnk6",
        "colab_type": "text"
      },
      "source": [
        "- USING LOGISTIC REGRESSION"
      ]
    },
    {
      "cell_type": "code",
      "metadata": {
        "id": "mOFqwgA5QqzX",
        "colab_type": "code",
        "colab": {
          "base_uri": "https://localhost:8080/",
          "height": 118
        },
        "outputId": "43c39fb9-e890-45e5-dd49-8d2b2a419678"
      },
      "source": [
        "print(\"THE MEAN SQUARED ERROR IS :\\n\",metrics.mean_absolute_error(Y_test,Y_pred))\n",
        "print(\"ROOT MEAN SQUARE ERROR IS :\\n\",np.sqrt(metrics.mean_squared_error(Y_test,Y_pred)))\n",
        "print(\"R-SQUARED SCORE IS :\\n\",metrics.r2_score(Y_test,Y_pred))"
      ],
      "execution_count": 78,
      "outputs": [
        {
          "output_type": "stream",
          "text": [
            "THE MEAN SQUARED ERROR IS :\n",
            " 1.9122615803814713\n",
            "ROOT MEAN SQUARE ERROR IS :\n",
            " 2.6075764688445733\n",
            "R-SQUARED SCORE IS :\n",
            " 0.6606368111542226\n"
          ],
          "name": "stdout"
        }
      ]
    },
    {
      "cell_type": "markdown",
      "metadata": {
        "id": "7UxtLxTlQtCA",
        "colab_type": "text"
      },
      "source": [
        "- USING KNEIGHBOR CLASSIFIER"
      ]
    },
    {
      "cell_type": "code",
      "metadata": {
        "id": "slXt4XLYQv_-",
        "colab_type": "code",
        "colab": {
          "base_uri": "https://localhost:8080/",
          "height": 118
        },
        "outputId": "b63af6fe-14cd-47e4-a86b-4a33ba2fba6a"
      },
      "source": [
        "print(\"THE MEAN SQUARED ERROR IS :\\n\",metrics.mean_absolute_error(yyy_test,yyy_pred))\n",
        "print(\"ROOT MEAN SQUARE ERROR IS :\\n\",np.sqrt(metrics.mean_squared_error(yyy_test,yyy_pred)))\n",
        "print(\"R-SQUARED SCORE IS :\\n\",metrics.r2_score(yyy_test,yyy_pred))"
      ],
      "execution_count": 79,
      "outputs": [
        {
          "output_type": "stream",
          "text": [
            "THE MEAN SQUARED ERROR IS :\n",
            " 0.35858310626703\n",
            "ROOT MEAN SQUARE ERROR IS :\n",
            " 0.9413307294645875\n",
            "R-SQUARED SCORE IS :\n",
            " 0.9557742610352461\n"
          ],
          "name": "stdout"
        }
      ]
    },
    {
      "cell_type": "markdown",
      "metadata": {
        "id": "01EFRqrmQyqB",
        "colab_type": "text"
      },
      "source": [
        "RANDOMFOREST GIVES A BETTER PERFORMANCE OVER METRICS COMPARED TO OTHER ALGORITHMS"
      ]
    }
  ]
}